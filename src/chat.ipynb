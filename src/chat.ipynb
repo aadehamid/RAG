{
 "cells": [
  {
   "cell_type": "code",
   "execution_count": 1,
   "id": "initial_id",
   "metadata": {
    "collapsed": true,
    "ExecuteTime": {
     "end_time": "2024-05-13T04:56:00.398393Z",
     "start_time": "2024-05-13T04:55:47.226285Z"
    }
   },
   "outputs": [
    {
     "data": {
      "text/plain": "True"
     },
     "execution_count": 1,
     "metadata": {},
     "output_type": "execute_result"
    }
   ],
   "source": [
    "import os\n",
    "from typing import List, Tuple\n",
    "from pandas import DataFrame\n",
    "import pandas as pd\n",
    "import pickle\n",
    "from pathlib import Path\n",
    "from dotenv import load_dotenv, find_dotenv\n",
    "from sqlalchemy import create_engine\n",
    "import sqlite3\n",
    "import asyncio\n",
    "import nest_asyncio\n",
    "nest_asyncio.apply()\n",
    "\n",
    "from src.utils import (\n",
    "    pdf_data_loader,\n",
    "    get_nodes,\n",
    "concat_node_object,\n",
    "    get_index,\n",
    "    get_sentence_window_query_engine,\n",
    "load_data_to_sql_db,\n",
    "csv_excel_data_loader,\n",
    "text_to_query_engine\n",
    "    )\n",
    "\n",
    "from llama_index.core import Document\n",
    "\n",
    "load_dotenv(find_dotenv())"
   ]
  },
  {
   "cell_type": "code",
   "outputs": [
    {
     "data": {
      "text/plain": "PosixPath('/Users/hamidadesokan/Dropbox/2_Skill_Development/DLML/genai_applications/RAG/src')"
     },
     "execution_count": 4,
     "metadata": {},
     "output_type": "execute_result"
    }
   ],
   "source": [
    "cur = Path.cwd()\n",
    "cur"
   ],
   "metadata": {
    "collapsed": false,
    "ExecuteTime": {
     "end_time": "2024-05-13T04:59:51.016420Z",
     "start_time": "2024-05-13T04:59:51.013892Z"
    }
   },
   "id": "44168102414b4561",
   "execution_count": 4
  },
  {
   "cell_type": "code",
   "outputs": [
    {
     "data": {
      "text/plain": "PosixPath('/Users/hamidadesokan/Dropbox/2_Skill_Development/DLML/genai_applications/RAG/data/pdfs')"
     },
     "execution_count": 6,
     "metadata": {},
     "output_type": "execute_result"
    }
   ],
   "source": [
    "cur.parent / \"data\" /\"pdfs\""
   ],
   "metadata": {
    "collapsed": false,
    "ExecuteTime": {
     "end_time": "2024-05-13T05:00:24.720620Z",
     "start_time": "2024-05-13T05:00:24.716935Z"
    }
   },
   "id": "cd2bd5d609be8cec",
   "execution_count": 6
  },
  {
   "cell_type": "code",
   "outputs": [],
   "source": [
    "# File Paths\n",
    "current_path = Path.cwd()\n",
    "pdf_dirs = current_path.parent / \"data\" / \"pdfs\"\n",
    "# pdf_dirs  = Path(\"/Users/hamidadesokan/Dropbox/2_Skill_Development/DLML/genai_applications/RAG/data/pdfs\")\n",
    "docs_path = current_path.parent / \"data\" / \"llamadocs\"\n",
    "# docs_path = Path(\"/Users/hamidadesokan/Dropbox/2_Skill_Development/DLML/genai_applications/RAG/data/llamadocs\")\n",
    "chroma_path = current_path.parent / \"data\" / \"chromadb\"\n",
    "# chroma_path = Path(\"/Users/hamidadesokan/Dropbox/2_Skill_Development/DLML/genai_applications/RAG/data/chromadb\")\n",
    "sqlitepath = current_path.parent / \"data\" / \"sqlite\" / \"sqlite.db\"\n",
    "# sqlitepath = Path(\"/Users/hamidadesokan/Dropbox/2_Skill_Development/DLML/genai_applications/RAG/data/sqlite/sqlite.db\")\n",
    "# Tesla Data\n",
    "nodes_path = current_path.parent / \"data\" / \"nodes\" / \"tesla_esg_nodes.pkl\"\n",
    "# nodes_path = Path(\"/Users/hamidadesokan/Dropbox/2_Skill_Development/DLML/genai_applications/RAG/data/nodes/tesla_esg_nodes.pkl\")\n",
    "\n",
    "\n",
    "# Sales Data\n",
    "sales_data_path = current_path.parent / \"data\" / \"csv\" / \"kaggle_sample_superstore.csv\"\n",
    "# sales_data_path = Path(\"/Users/hamidadesokan/Dropbox/2_Skill_Development/DLML/genai_applications/RAG/data/csv/kaggle_sample_superstore.csv\")\n",
    "sales_nodes_path = current_path.parent / \"data\" / \"nodes\" / \"sales_nodes.pkl\"\n",
    "# sales_nodes_path = Path(\"/Users/hamidadesokan/Dropbox/2_Skill_Development/DLML/genai_applications/RAG/data/nodes/sales_nodes.pkl\")\n"
   ],
   "metadata": {
    "collapsed": false,
    "ExecuteTime": {
     "end_time": "2024-05-13T05:04:17.425126Z",
     "start_time": "2024-05-13T05:04:17.421052Z"
    }
   },
   "id": "3162d70c2f850e8d",
   "execution_count": 7
  },
  {
   "cell_type": "markdown",
   "source": [
    "# Process data to generate Document object"
   ],
   "metadata": {
    "collapsed": false
   },
   "id": "c2eed47932492c8e"
  },
  {
   "cell_type": "code",
   "outputs": [],
   "source": [
    "def create_doc(filepath: Path,\n",
    "               docs_dir: Path = None,\n",
    "               docs_file_name: str = None,\n",
    "               db_path: Path = None,\n",
    "               tablename: str = None,\n",
    "               pdf: bool = True,\n",
    "               embed_csv: bool = True,\n",
    "               embed_columns: list = None,\n",
    "               metadata_column: list = None,\n",
    "               load_sql: bool = False,\n",
    "               ) -> Tuple[list[Document], DataFrame]:\n",
    "    docs = None\n",
    "    df = DataFrame()\n",
    "    pdf_file_path = []\n",
    "\n",
    "    if docs_dir is not None and docs_file_name is not None:\n",
    "        save_docs_file_path = Path(os.path.join(docs_dir, docs_file_name))\n",
    "    else:\n",
    "        save_docs_file_path = None\n",
    "\n",
    "    if save_docs_file_path is not None and save_docs_file_path.exists():\n",
    "        with save_docs_file_path.open(\"rb\") as file:\n",
    "            docs = pickle.load(file)\n",
    "    else:\n",
    "        if pdf:\n",
    "            docs = []\n",
    "            # for filename in os.listdir(filepath):\n",
    "            #     file_path =  Path(os.path.join(filepath, filename))\n",
    "                # pdf_file_path.append(file_path)\n",
    "            docs = asyncio.run(pdf_data_loader(filepath, num_workers=4))\n",
    "                # docs.extend(newdoc)\n",
    "            if save_docs_file_path is not None:\n",
    "                with save_docs_file_path.open(\"wb\") as file:\n",
    "                    pickle.dump(docs, file)\n",
    "        elif embed_csv:\n",
    "            docs, _ = csv_excel_data_loader(filepath,\n",
    "                                            embed_columns,\n",
    "                                            metadata_column)\n",
    "            if save_docs_file_path is not None:\n",
    "                with save_docs_file_path.open(\"wb\") as file:\n",
    "                    pickle.dump(docs, file)\n",
    "    \n",
    "    if load_sql and db_path is not None and tablename is not None:\n",
    "        df = load_data_to_sql_db(str(filepath), str(db_path), tablename)\n",
    "\n",
    "    return docs, df"
   ],
   "metadata": {
    "collapsed": false,
    "ExecuteTime": {
     "end_time": "2024-05-13T05:06:21.874169Z",
     "start_time": "2024-05-13T05:06:21.869047Z"
    }
   },
   "id": "a6f1ec97fc13c670",
   "execution_count": 13
  },
  {
   "cell_type": "code",
   "outputs": [],
   "source": [
    "# Get Nodes\n",
    "def get_query_engine(nodes_path: Path = Path(),\n",
    "                    docs: List[Document] = None, \n",
    "                    chroma_path: Path = None,\n",
    "                    index_name: str = None,\n",
    "                    window: bool = False,\n",
    "                    markdown: bool = False,\n",
    "                    db_path: Path = None,\n",
    "                    tablename: str = None,\n",
    "                    load_sql: bool = False,):\n",
    "    \n",
    "    if load_sql:\n",
    "        # Create a connection to the SQLite database and an engine\n",
    "        # conn = sqlite3.connect(str(db_path))\n",
    "        engine = create_engine(\"sqlite:///\" + str(db_path))\n",
    "        query_engine = text_to_query_engine([tablename], engine)\n",
    "    elif nodes_path.exists() and not load_sql:\n",
    "        with nodes_path.open(\"rb\") as file:\n",
    "            nodes = pickle.load(file)\n",
    "        chroma_path = str(chroma_path)\n",
    "        index = get_index(chroma_path, index_name, nodes = nodes)\n",
    "        query_engine = get_sentence_window_query_engine(index, window=window)\n",
    "    elif not nodes_path.exists() and not load_sql:\n",
    "        nodes_minus_object, nodes_object = get_nodes(docs, is_markdown=markdown, node_save_path=nodes_path)\n",
    "        nodes = concat_node_object(nodes_minus_object, nodes_object)\n",
    "        with nodes_path.open(\"wb\") as file:\n",
    "            pickle.dump(nodes, file)\n",
    "        chroma_path = str(chroma_path)\n",
    "        index = get_index(chroma_path, index_name, nodes = nodes)\n",
    "        query_engine = get_sentence_window_query_engine(index, window=window)\n",
    "   \n",
    "        \n",
    "    return query_engine"
   ],
   "metadata": {
    "collapsed": false,
    "ExecuteTime": {
     "end_time": "2024-05-13T05:06:22.634304Z",
     "start_time": "2024-05-13T05:06:22.630178Z"
    }
   },
   "id": "89d36f481abbc4ee",
   "execution_count": 14
  },
  {
   "cell_type": "code",
   "outputs": [
    {
     "name": "stdout",
     "output_type": "stream",
     "text": [
      "loading index tesla_esg\n"
     ]
    }
   ],
   "source": [
    "esgpath = os.path.join(docs_path, \"10K_esg\")\n",
    "with open(esgpath, \"rb\") as file:\n",
    "    esg_docs = pickle.load(file)\n",
    "\n",
    "esg_docs, _ = create_doc(pdf_dirs, \n",
    "                        docs_path, \n",
    "                        \"10K_esg\", \n",
    "                        pdf=True, \n",
    "                        embed_csv=False)\n",
    "\n",
    "\n",
    "esg_query_engine = get_query_engine(nodes_path, \n",
    "                                    esg_docs, \n",
    "                                    chroma_path, \n",
    "                                    \"tesla_esg\", \n",
    "                                    window=False, \n",
    "                                    markdown=True)"
   ],
   "metadata": {
    "collapsed": false,
    "ExecuteTime": {
     "end_time": "2024-05-13T05:06:35.189139Z",
     "start_time": "2024-05-13T05:06:32.269487Z"
    }
   },
   "id": "17eca506b20f1319",
   "execution_count": 15
  },
  {
   "cell_type": "code",
   "outputs": [
    {
     "name": "stdout",
     "output_type": "stream",
     "text": [
      "Tesla's Selling, General and Administrative (SG&A) expense in 2022 was 5% of revenue.\n"
     ]
    }
   ],
   "source": [
    "# esg_query =\"What are the key takeaways from Tesla's 2022 ESG report?\"\n",
    "# esg_query =\"Compare Deloitte's sustainbaility goals with that of McKinsey\" \n",
    "esg_query = \"How much was Tesla's Selling General and Administrative expense in 2022 as a percentage of revenue?\"\n",
    "# esg_query = \"How many McKinsey employee spent their time on sustainability work in 2022?\"\n",
    "response = esg_query_engine.query(esg_query)\n",
    "print(response)"
   ],
   "metadata": {
    "collapsed": false,
    "ExecuteTime": {
     "end_time": "2024-05-13T05:09:17.150376Z",
     "start_time": "2024-05-13T05:09:15.957508Z"
    }
   },
   "id": "20ec06762df732f0",
   "execution_count": 20
  },
  {
   "cell_type": "code",
   "outputs": [],
   "source": [
    "_, df = create_doc(filepath=sales_data_path,\n",
    "                   db_path= sqlitepath,\n",
    "                   tablename = \"Sales\",\n",
    "                   pdf = False,\n",
    "                   load_sql=True,\n",
    "                   embed_csv=False,)\n",
    "# df = load_data_to_sql_db(sales_data_path, str(sqlitepath), \"Sales\")\n",
    "sales_sql_query_engine = get_query_engine(\n",
    "                                         db_path=sqlitepath, \n",
    "                                         tablename=\"Sales\", \n",
    "                                         load_sql=True)"
   ],
   "metadata": {
    "collapsed": false,
    "ExecuteTime": {
     "end_time": "2024-05-13T05:09:27.541412Z",
     "start_time": "2024-05-13T05:09:27.259383Z"
    }
   },
   "id": "7942239d33e7060c",
   "execution_count": 21
  },
  {
   "cell_type": "code",
   "outputs": [
    {
     "name": "stdout",
     "output_type": "stream",
     "text": [
      "Based on the SQL query provided, the segment that sold the most is the \"Consumer\" segment, with a total sales of 1,161,401.34.\n",
      "\n",
      "The SQL query first groups the sales data by the \"Segment\" column, calculates the total sales for each segment using the SUM(Sales) function, orders the results by the total sales in descending order, and then takes the first (LIMIT 1) result, which represents the segment with the highest total sales.\n",
      "\n",
      "Therefore, the response to the given query \"Which Segment sold the most?\" would be:\n",
      "\n",
      "\"The Consumer segment sold the most, with a total sales of 1,161,401.34.\"\n"
     ]
    }
   ],
   "source": [
    "# sales_query =\"What is the total sales in Los Angeles\"\n",
    "sales_query =\"Which Segment sold the most?\" \n",
    "response = sales_sql_query_engine.query(sales_query)\n",
    "print(response)"
   ],
   "metadata": {
    "collapsed": false,
    "ExecuteTime": {
     "end_time": "2024-05-13T05:09:32.857345Z",
     "start_time": "2024-05-13T05:09:30.037296Z"
    }
   },
   "id": "464b557af0272469",
   "execution_count": 22
  },
  {
   "cell_type": "code",
   "outputs": [
    {
     "data": {
      "text/plain": "{'9ec5355c-99ad-4eef-8fe4-de335d8b7ba9': {},\n 'sql_query': 'SELECT Segment, SUM(Quantity) AS TotalQuantity\\nFROM Sales\\nGROUP BY Segment\\nORDER BY TotalQuantity DESC\\nLIMIT 1;',\n 'result': [('Consumer', 19521)],\n 'col_keys': ['Segment', 'TotalQuantity']}"
     },
     "execution_count": 55,
     "metadata": {},
     "output_type": "execute_result"
    }
   ],
   "source": [
    "response.metadata"
   ],
   "metadata": {
    "collapsed": false,
    "ExecuteTime": {
     "end_time": "2024-03-31T06:47:09.203932Z",
     "start_time": "2024-03-31T06:47:09.199569Z"
    }
   },
   "id": "228e4dcbcbe8d3e6",
   "execution_count": 55
  },
  {
   "cell_type": "code",
   "outputs": [],
   "source": [],
   "metadata": {
    "collapsed": false
   },
   "id": "16156f0f8e663fe"
  }
 ],
 "metadata": {
  "kernelspec": {
   "display_name": "Python 3",
   "language": "python",
   "name": "python3"
  },
  "language_info": {
   "codemirror_mode": {
    "name": "ipython",
    "version": 2
   },
   "file_extension": ".py",
   "mimetype": "text/x-python",
   "name": "python",
   "nbconvert_exporter": "python",
   "pygments_lexer": "ipython2",
   "version": "2.7.6"
  }
 },
 "nbformat": 4,
 "nbformat_minor": 5
}
