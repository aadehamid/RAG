{
 "cells": [
  {
   "cell_type": "markdown",
   "id": "7b5902a2eb62f127",
   "metadata": {
    "collapsed": false
   },
   "source": [
    "## Load data and save the Document object"
   ]
  },
  {
   "cell_type": "code",
   "execution_count": 1,
   "id": "19f296e2ca4f2ee0",
   "metadata": {
    "collapsed": false,
    "ExecuteTime": {
     "end_time": "2024-05-19T19:44:33.099500Z",
     "start_time": "2024-05-19T19:44:27.430666Z"
    }
   },
   "outputs": [],
   "source": [
    "from pathlib import Path\n",
    "from src.utils.utils import  final_query, fulldocpath, fulllnodespath\n",
    "import asyncio\n",
    "import nest_asyncio\n",
    "nest_asyncio.apply()\n"
   ]
  },
  {
   "cell_type": "code",
   "execution_count": 2,
   "id": "9e49b7da",
   "metadata": {
    "ExecuteTime": {
     "end_time": "2024-05-19T19:44:43.796722Z",
     "start_time": "2024-05-19T19:44:39.673043Z"
    }
   },
   "outputs": [
    {
     "name": "stdout",
     "output_type": "stream",
     "text": [
      "The path /Users/hamidadesokan/Dropbox/2_Skill_Development/DLML/genai_applications/RAG/data/llamadocs/10K_esg exists. Loading from disk...\n",
      "The path /Users/hamidadesokan/Dropbox/2_Skill_Development/DLML/genai_applications/RAG/data/nodes/tesla_esg_nodes.pkl exists. Loading from disk...\n",
      "loading index 10K_esg\n"
     ]
    }
   ],
   "source": [
    "# fulldocpath = Path.joinpath(docs_path, \"10K_esg\")\n",
    "# fulllnodespath = Path.joinpath(nodes_path)\n",
    "sq_vec_summary_engine = final_query(fulldocpath, fulllnodespath)"
   ]
  },
  {
   "cell_type": "code",
   "execution_count": 3,
   "id": "6fbe2a453180e74a",
   "metadata": {
    "collapsed": false,
    "ExecuteTime": {
     "end_time": "2024-05-19T19:45:33.241095Z",
     "start_time": "2024-05-19T19:44:49.840276Z"
    }
   },
   "outputs": [
    {
     "name": "stdout",
     "output_type": "stream",
     "text": [
      "Generated 2 sub questions.\n",
      "\u001B[1;3;38;2;237;90;200m[Tesla10K_Esg_Report_Query_Engine] Q: What was the value of Restructuring and Other in Tesla's 2022 10K report?\n",
      "\u001B[0m\u001B[1;3;38;2;90;149;237m[Tesla10K_Esg_Report_Query_Engine] Q: What was the value of Restructuring and Other in Tesla's 2021 10K report?\n",
      "\u001B[0m\u001B[1;3;38;2;237;90;200m[Tesla10K_Esg_Report_Query_Engine] A: According to the table provided in the context, the value of Restructuring and Other charges for Tesla in 2022 was $176 million.\n",
      "\u001B[0m\u001B[1;3;38;2;90;149;237m[Tesla10K_Esg_Report_Query_Engine] A: According to the table provided in the context, the value of Restructuring and Other in Tesla's 2021 10K report was ($27).\n",
      "\u001B[0mTesla reported an increase of $203 million in Restructuring and Other charges from 2021 to 2022. In 2021, the value was ($27) million, while in 2022 it was $176 million, representing a year-over-year increase of $203 million.\n"
     ]
    }
   ],
   "source": [
    "# esg_query = \"How much was Tesla's Research and Development amount and as a percentage of revenue in 2020?\"\n",
    "# esg_query = \"How much did McKinsey invested in strengthening risk management since 2018?\"\n",
    "# esg_query = \"How much was Tesla's Selling, General, and Administrative expense in 2022?\"\n",
    "# esg_query = \"How much was Tesla's Selling General and Administrative expense in 2022 as a percentage of revenue?\"\n",
    "esg_query = \"How much did Tesla reported as changes in Restructuring and Other in 2022 vs 2021? \"\n",
    "# esg_query = \"How much did Tesla's Selling, General, and Administrative changed from 2022 vs 2021 in dollar amount? \"\n",
    "response = sq_vec_summary_engine.query(esg_query)\n",
    "print(response)\n"
   ]
  },
  {
   "cell_type": "code",
   "execution_count": 3,
   "id": "85e37a79e5da05f",
   "metadata": {
    "ExecuteTime": {
     "end_time": "2024-05-19T05:35:52.682Z",
     "start_time": "2024-05-19T05:35:52.679713Z"
    },
    "collapsed": false
   },
   "outputs": [],
   "source": [
    "# sales_query =\"What is the total sales in Los Angeles\"\n",
    "# sales_query =\"Which Segment sold the most?\" \n",
    "# response = sales_sql_query_engine.query(sales_query)\n",
    "# print(response)"
   ]
  },
  {
   "cell_type": "code",
   "execution_count": 4,
   "id": "692ef121b1338fd0",
   "metadata": {
    "collapsed": false,
    "ExecuteTime": {
     "end_time": "2024-05-19T19:45:57.920257Z",
     "start_time": "2024-05-19T19:45:33.242489Z"
    }
   },
   "outputs": [
    {
     "name": "stdout",
     "output_type": "stream",
     "text": [
      "Generated 3 sub questions.\n",
      "\u001B[1;3;38;2;237;90;200m[Tesla10K_Esg_Report_Query_Engine] Q: What was Tesla's Selling, General, and Administrative expenses in 2022?\n",
      "\u001B[0m\u001B[1;3;38;2;90;149;237m[Tesla10K_Esg_Report_Query_Engine] Q: What was Tesla's Selling, General, and Administrative expenses in 2021?\n",
      "\u001B[0m\u001B[1;3;38;2;11;159;203m[Tesla10K_Esg_Report_Query_Engine] Q: What is the difference in Tesla's Selling, General, and Administrative expenses between 2022 and 2021?\n",
      "\u001B[0m\u001B[1;3;38;2;90;149;237m[Tesla10K_Esg_Report_Query_Engine] A: Tesla's Selling, General, and Administrative expenses in 2021 were $4,517 million.\n",
      "\u001B[0m\u001B[1;3;38;2;237;90;200m[Tesla10K_Esg_Report_Query_Engine] A: Tesla's Selling, General, and Administrative expenses in 2022 were $3,946 million.\n",
      "\u001B[0m\u001B[1;3;38;2;11;159;203m[Tesla10K_Esg_Report_Query_Engine] A: The difference in Tesla's Selling, General, and Administrative (SG&A) expenses between 2022 and 2021 was a decrease of $571 million, or 13%. Specifically, the SG&A expenses were $3,946 million in 2022, compared to $4,517 million in 2021, representing a decrease of $571 million or 13% year-over-year.\n",
      "\u001B[0mThe difference in Tesla's Selling, General, and Administrative (SG&A) expenses between 2022 and 2021 was a decrease of $571 million. Specifically, the SG&A expenses were $3,946 million in 2022, compared to $4,517 million in 2021, representing a decrease of $571 million.\n"
     ]
    }
   ],
   "source": [
    "# sales_query =\"What is the total sales in Los Angeles\"\n",
    "# sales_query =\"Which product Segment sold the most using the sales database?\"\n",
    "sales_query =\"How much did Tesla's Selling, General, and Administrative changed from 2022 vs 2021 in dollar amount? \"\n",
    "# sales_query = \"How much was Tesla's Selling General and Administrative expense in 2021 as a percentage of revenues?\"\n",
    "response = sq_vec_summary_engine.query(sales_query)\n",
    "print(str(response))"
   ]
  },
  {
   "cell_type": "code",
   "execution_count": 9,
   "id": "ffb2fc23ce6f5ef7",
   "metadata": {
    "ExecuteTime": {
     "end_time": "2024-05-19T05:55:33.279180Z",
     "start_time": "2024-05-19T05:55:28.252593Z"
    },
    "collapsed": false
   },
   "outputs": [
    {
     "name": "stdout",
     "output_type": "stream",
     "text": [
      "Generated 4 sub questions.\n",
      "\u001B[1;3;38;2;237;90;200m[Tesla10K_Esg_Report_Query_Engine] Q: What was Tesla's Selling General and Administrative expenses in 2022?\n",
      "\u001B[0m\u001B[1;3;38;2;90;149;237m[Tesla10K_Esg_Report_Query_Engine] Q: What was Tesla's Selling General and Administrative expenses in 2021?\n",
      "\u001B[0m\u001B[1;3;38;2;11;159;203m[Tesla10K_Esg_Report_Query_Engine] Q: What were Tesla's total revenues in 2022?\n",
      "\u001B[0m\u001B[1;3;38;2;155;135;227m[Tesla10K_Esg_Report_Query_Engine] Q: What were Tesla's total revenues in 2021?\n",
      "\u001B[0m\u001B[1;3;38;2;90;149;237m[Tesla10K_Esg_Report_Query_Engine] A: Tesla's Selling, General and Administrative expenses in 2021 were $4,517 million.\n",
      "\u001B[0m\u001B[1;3;38;2;11;159;203m[Tesla10K_Esg_Report_Query_Engine] A: Tesla's total revenues in 2022 were $81,462 million.\n",
      "\u001B[0m\u001B[1;3;38;2;155;135;227m[Tesla10K_Esg_Report_Query_Engine] A: Tesla's total revenues in 2021 were $53,823 million.\n",
      "\u001B[0m\u001B[1;3;38;2;237;90;200m[Tesla10K_Esg_Report_Query_Engine] A: Tesla's Selling, General and Administrative (SG&A) expenses in 2022 were $3,946 million.\n",
      "\u001B[0mIn 2022, Tesla's Selling, General and Administrative (SG&A) expenses were $3,946 million, which represented 4.8% of its total revenues of $81,462 million for that year.\n",
      "\n",
      "In 2021, Tesla's SG&A expenses were $4,517 million, which represented 8.4% of its total revenues of $53,823 million for that year.\n",
      "\n",
      "Therefore, Tesla's SG&A expenses as a percentage of revenues decreased from 8.4% in 2021 to 4.8% in 2022.\n"
     ]
    }
   ],
   "source": [
    "# esg_query = \"How is McKinsey responding to the war in Ukraine in its sustainability effort?\"\n",
    "# esg_query =\"How does Deloitte's sustainbaility goals differs from that of McKinsey\"\n",
    "# esg_query = \"Summarize Deloitte ESg report\"\n",
    "# esg_query = \"How much was Tesla's Selling, General, and Administrative expense in 2022?\"\n",
    "# esg_query = \"How much did Tesla's Selling, General, and Administrative changed from 2022 vs 2021 in dollar amount? \"\n",
    "esg_query = \"How much was Tesla's Selling General and Administrative  in 2022 vs 2021 as a percentage of revenues?\"\n",
    "response = sq_vec_summary_engine.query(esg_query)\n",
    "print(response)"
   ]
  },
  {
   "cell_type": "code",
   "execution_count": null,
   "id": "a45e85c2de91f85b",
   "metadata": {
    "collapsed": false
   },
   "outputs": [],
   "source": []
  }
 ],
 "metadata": {
  "kernelspec": {
   "display_name": "Python 3",
   "language": "python",
   "name": "python3"
  },
  "language_info": {
   "codemirror_mode": {
    "name": "ipython",
    "version": 3
   },
   "file_extension": ".py",
   "mimetype": "text/x-python",
   "name": "python",
   "nbconvert_exporter": "python",
   "pygments_lexer": "ipython3",
   "version": "3.10.10"
  }
 },
 "nbformat": 4,
 "nbformat_minor": 5
}
