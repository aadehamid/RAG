{
 "cells": [
  {
   "cell_type": "markdown",
   "source": [
    "## Load data and save the Document object"
   ],
   "metadata": {
    "collapsed": false
   },
   "id": "7b5902a2eb62f127"
  },
  {
   "cell_type": "code",
   "outputs": [
    {
     "name": "stdout",
     "output_type": "stream",
     "text": [
      "The path /Users/hamidadesokan/Dropbox/2_Skill_Development/DLML/genai_applications/RAG/data/llamadocs/10K_esg exists. Loading from disk...\n",
      "The path /Users/hamidadesokan/Dropbox/2_Skill_Development/DLML/genai_applications/RAG/data/nodes/tesla_esg_nodes.pkl exists. Loading from disk...\n",
      "loading index 10K_esg\n"
     ]
    }
   ],
   "source": [
    "from pathlib import Path\n",
    "from src.utils import  final_query, fulldocpath, fulllnodespath\n",
    "import asyncio\n",
    "import nest_asyncio\n",
    "nest_asyncio.apply()\n",
    "# fulldocpath = Path.joinpath(docs_path, \"10K_esg\")\n",
    "# fulllnodespath = Path.joinpath(nodes_path)\n",
    "sq_vec_summary_engine = final_query(fulldocpath, fulllnodespath)"
   ],
   "metadata": {
    "collapsed": false,
    "ExecuteTime": {
     "end_time": "2024-05-19T05:32:12.799806Z",
     "start_time": "2024-05-19T05:32:06.095045Z"
    }
   },
   "id": "19f296e2ca4f2ee0",
   "execution_count": 1
  },
  {
   "cell_type": "code",
   "outputs": [
    {
     "name": "stdout",
     "output_type": "stream",
     "text": [
      "Tesla's Selling, General and Administrative (SG&A) expenses as a percentage of revenue decreased from 8% in 2021 to 5% in 2022.\n"
     ]
    }
   ],
   "source": [
    "# esg_query = \"How much was Tesla's Research and Development amount and as a percentage of revenue in 2020?\"\n",
    "# esg_query = \"How much did McKinsey invested in strengthening risk management since 2018?\"\n",
    "# esg_query = \"How much was Tesla's Selling, General, and Administrative expense in 2022?\"\n",
    "esg_query = \"How much was Tesla's Selling General and Administrative expense in 2022 as a percentage of revenue?\"\n",
    "# esg_query = \"How much did Tesla's Selling, General, and Administrative changed from 2022 vs 2021 in dollar amount? \"\n",
    "# response = esg_query_engine.query(esg_query)\n",
    "# print(response)\n"
   ],
   "metadata": {
    "collapsed": false
   },
   "id": "6fbe2a453180e74a",
   "execution_count": 31
  },
  {
   "cell_type": "code",
   "outputs": [],
   "source": [
    "# sales_query =\"What is the total sales in Los Angeles\"\n",
    "# sales_query =\"Which Segment sold the most?\" \n",
    "# response = sales_sql_query_engine.query(sales_query)\n",
    "# print(response)"
   ],
   "metadata": {
    "collapsed": false,
    "ExecuteTime": {
     "end_time": "2024-05-19T05:35:52.682Z",
     "start_time": "2024-05-19T05:35:52.679713Z"
    }
   },
   "id": "85e37a79e5da05f",
   "execution_count": 3
  },
  {
   "cell_type": "code",
   "outputs": [
    {
     "name": "stdout",
     "output_type": "stream",
     "text": [
      "Generated 3 sub questions.\n",
      "\u001B[1;3;38;2;237;90;200m[Tesla10K_Esg_Report_Query_Engine] Q: What was Tesla's Selling, General, and Administrative expenses in 2022?\n",
      "\u001B[0m\u001B[1;3;38;2;90;149;237m[Tesla10K_Esg_Report_Query_Engine] Q: What was Tesla's Selling, General, and Administrative expenses in 2021?\n",
      "\u001B[0m\u001B[1;3;38;2;11;159;203m[Tesla10K_Esg_Report_Query_Engine] Q: What is the difference in Tesla's Selling, General, and Administrative expenses between 2022 and 2021?\n",
      "\u001B[0m\u001B[1;3;38;2;90;149;237m[Tesla10K_Esg_Report_Query_Engine] A: Tesla's Selling, General, and Administrative expenses in 2021 were $4,517 million.\n",
      "\u001B[0m\u001B[1;3;38;2;237;90;200m[Tesla10K_Esg_Report_Query_Engine] A: Tesla's Selling, General, and Administrative expenses in 2022 were $3,946 million.\n",
      "\u001B[0m\u001B[1;3;38;2;11;159;203m[Tesla10K_Esg_Report_Query_Engine] A: The difference in Tesla's Selling, General, and Administrative (SG&A) expenses between 2022 and 2021 was a decrease of $571 million, or 13%. Specifically, the SG&A expenses were $3,946 million in 2022, compared to $4,517 million in 2021, representing a decrease of $571 million or 13% year-over-year.\n",
      "\u001B[0mThe difference in Tesla's Selling, General, and Administrative (SG&A) expenses between 2022 and 2021 was a decrease of $571 million. Specifically, the SG&A expenses were $3,946 million in 2022, compared to $4,517 million in 2021, representing a decrease of $571 million.\n"
     ]
    }
   ],
   "source": [
    "# sales_query =\"What is the total sales in Los Angeles\"\n",
    "# sales_query =\"Which product Segment sold the most using the sales database?\"\n",
    "sales_query =\"How much did Tesla's Selling, General, and Administrative changed from 2022 vs 2021 in dollar amount? \"\n",
    "response = sq_vec_summary_engine.query(sales_query)\n",
    "print(str(response))"
   ],
   "metadata": {
    "collapsed": false,
    "ExecuteTime": {
     "end_time": "2024-05-19T05:40:25.003859Z",
     "start_time": "2024-05-19T05:40:20.159104Z"
    }
   },
   "id": "692ef121b1338fd0",
   "execution_count": 7
  },
  {
   "cell_type": "code",
   "outputs": [
    {
     "name": "stdout",
     "output_type": "stream",
     "text": [
      "Generated 2 sub questions.\n",
      "\u001B[1;3;38;2;237;90;200m[Summary ESG Engine] Q: What are the key highlights from the Deloitte ESG report?\n",
      "\u001B[0m\u001B[1;3;38;2;90;149;237m[Tesla10K_Esg_Report_Query_Engine] Q: What are the environmental, social, and governance (ESG) metrics and performance indicators covered in the Deloitte ESG report?\n",
      "\u001B[0m\u001B[1;3;38;2;237;90;200m[Summary ESG Engine] A: Based on the information provided in the Deloitte Sustainability Report, here are the key ESG highlights:\n",
      "\n",
      "Environmental:\n",
      "- Deloitte reduced its Scope 1 and 2 emissions by 79% in FY2023 compared to the base year.\n",
      "- Deloitte's fleet transitioned to 39% electric vehicles in FY2023, up from 24% in FY2022.\n",
      "- Deloitte aims to have 67% of its suppliers set science-based targets by 2025 to reduce emissions in the value chain.\n",
      "\n",
      "Social: \n",
      "- Deloitte launched Deloitte Health Equity Institutes (DHEIs) in Europe, Spanish Latin America, Africa, India, and the US to advance health equity.\n",
      "- Deloitte signed the Zero Health Gaps Pledge, a global, multi-sector, CEO-level pledge to advance health equity.\n",
      "- Deloitte continued its partnership with the International Olympic Committee, focusing on initiatives related to sustainability, diversity, equity, inclusion, and athlete well-being.\n",
      "\n",
      "Governance:\n",
      "- Deloitte has a robust process for identifying, assessing, managing, and monitoring risks and opportunities.\n",
      "- Deloitte has a written anti-corruption policy and requires all its people to complete anti-corruption training biennially.\n",
      "- Deloitte is committed to maintaining confidentiality, integrity, and availability of data and information of its clients and individuals.\n",
      "\n",
      "Overall, Deloitte is making progress on its environmental, social, and governance commitments, with a focus on reducing emissions, advancing health equity, and upholding strong governance practices.\n",
      "\u001B[0m\u001B[1;3;38;2;90;149;237m[Tesla10K_Esg_Report_Query_Engine] A: Based on the information provided in the context, the key ESG metrics and performance indicators covered in the Deloitte ESG report include:\n",
      "\n",
      "Environmental:\n",
      "- Greenhouse gas emissions by scope and source, including Scope 1, 2, and 3 emissions\n",
      "- Percent of renewable electricity purchased\n",
      "- Percent of electric vehicles in the fleet\n",
      "- Reduction targets for Scope 1/2 and Scope 3 emissions\n",
      "- Percent of suppliers with science-based emissions reduction targets\n",
      "\n",
      "Social:\n",
      "- Total societal investments and investments over time\n",
      "- Diversity metrics, including gender representation among Deloitte people\n",
      "- Number of countries represented among Deloitte members\n",
      "\n",
      "Governance:\n",
      "- Aggregate global revenue growth\n",
      "- Annual direct training investment per individual\n",
      "- Innovation investment as a percentage of aggregate revenue\n",
      "\n",
      "The report also covers broader topics such as talent experience, sustainable operations, nature and biodiversity, public policy engagement, and sustainable and responsible supply chain.\n",
      "\u001B[0mBased on the information provided, the key highlights from the Deloitte ESG report include:\n",
      "\n",
      "Environmental:\n",
      "- Significant reduction in Scope 1 and 2 emissions by 79% compared to the base year\n",
      "- Increased adoption of electric vehicles in the fleet to 39%\n",
      "- Commitment to have 67% of suppliers set science-based emissions reduction targets by 2025\n",
      "\n",
      "Social:\n",
      "- Launch of Deloitte Health Equity Institutes in multiple regions to advance health equity\n",
      "- Signing of the Zero Health Gaps Pledge to address health disparities\n",
      "- Continued partnership with the International Olympic Committee on sustainability, diversity, and athlete well-being\n",
      "\n",
      "Governance:\n",
      "- Robust risk management processes\n",
      "- Anti-corruption policy and training for all employees\n",
      "- Commitment to data privacy and security\n",
      "\n",
      "The report covers a range of ESG metrics and performance indicators across the environmental, social, and governance domains, demonstrating Deloitte's progress and commitments in these areas.\n"
     ]
    }
   ],
   "source": [
    "# esg_query = \"How is McKinsey responding to the war in Ukraine in its sustainability effort?\"\n",
    "# esg_query =\"How does Deloitte's sustainbaility goals differs from that of McKinsey\"\n",
    "esg_query = \"Summarize Deloitte ESg report\"\n",
    "# esg_query = \"How much was Tesla's Selling, General, and Administrative expense in 2022?\"\n",
    "# esg_query = \"How much did Tesla's Selling, General, and Administrative changed from 2022 vs 2021 in dollar amount? \"\n",
    "# esg_query = \"How much was Tesla's Selling General and Administrative expense in 2022 as a percentage of revenue?\"\n",
    "response = sq_vec_summary_engine.query(esg_query)\n",
    "print(response)"
   ],
   "metadata": {
    "collapsed": false,
    "ExecuteTime": {
     "end_time": "2024-05-19T05:39:46.792752Z",
     "start_time": "2024-05-19T05:38:59.632291Z"
    }
   },
   "id": "ffb2fc23ce6f5ef7",
   "execution_count": 6
  },
  {
   "cell_type": "code",
   "outputs": [],
   "source": [],
   "metadata": {
    "collapsed": false
   },
   "id": "a45e85c2de91f85b"
  }
 ],
 "metadata": {
  "kernelspec": {
   "display_name": "Python 3",
   "language": "python",
   "name": "python3"
  },
  "language_info": {
   "codemirror_mode": {
    "name": "ipython",
    "version": 2
   },
   "file_extension": ".py",
   "mimetype": "text/x-python",
   "name": "python",
   "nbconvert_exporter": "python",
   "pygments_lexer": "ipython2",
   "version": "2.7.6"
  }
 },
 "nbformat": 4,
 "nbformat_minor": 5
}
