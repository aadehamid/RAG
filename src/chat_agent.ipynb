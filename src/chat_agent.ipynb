{
 "cells": [
  {
   "cell_type": "markdown",
   "id": "7b5902a2eb62f127",
   "metadata": {
    "collapsed": false
   },
   "source": [
    "## Load data and save the Document object"
   ]
  },
  {
   "cell_type": "code",
   "execution_count": 4,
   "id": "19f296e2ca4f2ee0",
   "metadata": {
    "ExecuteTime": {
     "end_time": "2024-05-19T05:49:07.202755Z",
     "start_time": "2024-05-19T05:49:00.572456Z"
    },
    "collapsed": false
   },
   "outputs": [],
   "source": [
    "from pathlib import Path\n",
    "from src.utils.utils import  final_query, fulldocpath, fulllnodespath\n",
    "import asyncio\n",
    "import nest_asyncio\n",
    "nest_asyncio.apply()\n"
   ]
  },
  {
   "cell_type": "code",
   "execution_count": 6,
   "id": "9e49b7da",
   "metadata": {},
   "outputs": [
    {
     "name": "stdout",
     "output_type": "stream",
     "text": [
      "The path /teamspace/studios/data/llamadocs/10K_esg does not exist. Creating a new one...\n"
     ]
    },
    {
     "ename": "FileNotFoundError",
     "evalue": "[Errno 2] No such file or directory: '/teamspace/studios/data/pdfs'",
     "output_type": "error",
     "traceback": [
      "\u001b[0;31m---------------------------------------------------------------------------\u001b[0m",
      "\u001b[0;31mFileNotFoundError\u001b[0m                         Traceback (most recent call last)",
      "Cell \u001b[0;32mIn[6], line 3\u001b[0m\n\u001b[1;32m      1\u001b[0m \u001b[38;5;66;03m# fulldocpath = Path.joinpath(docs_path, \"10K_esg\")\u001b[39;00m\n\u001b[1;32m      2\u001b[0m \u001b[38;5;66;03m# fulllnodespath = Path.joinpath(nodes_path)\u001b[39;00m\n\u001b[0;32m----> 3\u001b[0m sq_vec_summary_engine \u001b[38;5;241m=\u001b[39m \u001b[43mfinal_query\u001b[49m\u001b[43m(\u001b[49m\u001b[43mfulldocpath\u001b[49m\u001b[43m,\u001b[49m\u001b[43m \u001b[49m\u001b[43mfulllnodespath\u001b[49m\u001b[43m)\u001b[49m\n",
      "File \u001b[0;32m~/RAG/src/utils/utils.py:577\u001b[0m, in \u001b[0;36mfinal_query\u001b[0;34m(fulldocpath, fulllnodespath, tablename)\u001b[0m\n\u001b[1;32m    575\u001b[0m \u001b[38;5;28;01melse\u001b[39;00m:\n\u001b[1;32m    576\u001b[0m     \u001b[38;5;28mprint\u001b[39m(\u001b[38;5;124mf\u001b[39m\u001b[38;5;124m\"\u001b[39m\u001b[38;5;124mThe path \u001b[39m\u001b[38;5;132;01m{\u001b[39;00mfulldocpath\u001b[38;5;132;01m}\u001b[39;00m\u001b[38;5;124m does not exist. Creating a new one...\u001b[39m\u001b[38;5;124m\"\u001b[39m)\n\u001b[0;32m--> 577\u001b[0m     esg_docs \u001b[38;5;241m=\u001b[39m \u001b[43masyncio\u001b[49m\u001b[38;5;241;43m.\u001b[39;49m\u001b[43mrun\u001b[49m\u001b[43m(\u001b[49m\u001b[43mpdf_data_loader\u001b[49m\u001b[43m(\u001b[49m\u001b[43mpdf_dirs\u001b[49m\u001b[43m,\u001b[49m\u001b[43m \u001b[49m\u001b[43mdocs_path\u001b[49m\u001b[43m,\u001b[49m\u001b[43m \u001b[49m\u001b[43mfulldocpath\u001b[49m\u001b[38;5;241;43m.\u001b[39;49m\u001b[43mname\u001b[49m\u001b[43m,\u001b[49m\u001b[43m \u001b[49m\u001b[43mparsing_instruction\u001b[49m\u001b[43m,\u001b[49m\u001b[43m \u001b[49m\u001b[38;5;241;43m3\u001b[39;49m\u001b[43m)\u001b[49m\u001b[43m)\u001b[49m\n\u001b[1;32m    579\u001b[0m \u001b[38;5;28;01mif\u001b[39;00m fulllnodespath\u001b[38;5;241m.\u001b[39mexists():\n\u001b[1;32m    580\u001b[0m     \u001b[38;5;28mprint\u001b[39m(\u001b[38;5;124mf\u001b[39m\u001b[38;5;124m\"\u001b[39m\u001b[38;5;124mThe path \u001b[39m\u001b[38;5;132;01m{\u001b[39;00mfulllnodespath\u001b[38;5;132;01m}\u001b[39;00m\u001b[38;5;124m exists. Loading from disk...\u001b[39m\u001b[38;5;124m\"\u001b[39m)\n",
      "File \u001b[0;32m/home/zeus/miniconda3/envs/cloudspace/lib/python3.10/site-packages/nest_asyncio.py:30\u001b[0m, in \u001b[0;36m_patch_asyncio.<locals>.run\u001b[0;34m(main, debug)\u001b[0m\n\u001b[1;32m     28\u001b[0m task \u001b[38;5;241m=\u001b[39m asyncio\u001b[38;5;241m.\u001b[39mensure_future(main)\n\u001b[1;32m     29\u001b[0m \u001b[38;5;28;01mtry\u001b[39;00m:\n\u001b[0;32m---> 30\u001b[0m     \u001b[38;5;28;01mreturn\u001b[39;00m \u001b[43mloop\u001b[49m\u001b[38;5;241;43m.\u001b[39;49m\u001b[43mrun_until_complete\u001b[49m\u001b[43m(\u001b[49m\u001b[43mtask\u001b[49m\u001b[43m)\u001b[49m\n\u001b[1;32m     31\u001b[0m \u001b[38;5;28;01mfinally\u001b[39;00m:\n\u001b[1;32m     32\u001b[0m     \u001b[38;5;28;01mif\u001b[39;00m \u001b[38;5;129;01mnot\u001b[39;00m task\u001b[38;5;241m.\u001b[39mdone():\n",
      "File \u001b[0;32m/home/zeus/miniconda3/envs/cloudspace/lib/python3.10/site-packages/nest_asyncio.py:98\u001b[0m, in \u001b[0;36m_patch_loop.<locals>.run_until_complete\u001b[0;34m(self, future)\u001b[0m\n\u001b[1;32m     95\u001b[0m \u001b[38;5;28;01mif\u001b[39;00m \u001b[38;5;129;01mnot\u001b[39;00m f\u001b[38;5;241m.\u001b[39mdone():\n\u001b[1;32m     96\u001b[0m     \u001b[38;5;28;01mraise\u001b[39;00m \u001b[38;5;167;01mRuntimeError\u001b[39;00m(\n\u001b[1;32m     97\u001b[0m         \u001b[38;5;124m'\u001b[39m\u001b[38;5;124mEvent loop stopped before Future completed.\u001b[39m\u001b[38;5;124m'\u001b[39m)\n\u001b[0;32m---> 98\u001b[0m \u001b[38;5;28;01mreturn\u001b[39;00m \u001b[43mf\u001b[49m\u001b[38;5;241;43m.\u001b[39;49m\u001b[43mresult\u001b[49m\u001b[43m(\u001b[49m\u001b[43m)\u001b[49m\n",
      "File \u001b[0;32m/home/zeus/miniconda3/envs/cloudspace/lib/python3.10/asyncio/futures.py:201\u001b[0m, in \u001b[0;36mFuture.result\u001b[0;34m(self)\u001b[0m\n\u001b[1;32m    199\u001b[0m \u001b[38;5;28mself\u001b[39m\u001b[38;5;241m.\u001b[39m__log_traceback \u001b[38;5;241m=\u001b[39m \u001b[38;5;28;01mFalse\u001b[39;00m\n\u001b[1;32m    200\u001b[0m \u001b[38;5;28;01mif\u001b[39;00m \u001b[38;5;28mself\u001b[39m\u001b[38;5;241m.\u001b[39m_exception \u001b[38;5;129;01mis\u001b[39;00m \u001b[38;5;129;01mnot\u001b[39;00m \u001b[38;5;28;01mNone\u001b[39;00m:\n\u001b[0;32m--> 201\u001b[0m     \u001b[38;5;28;01mraise\u001b[39;00m \u001b[38;5;28mself\u001b[39m\u001b[38;5;241m.\u001b[39m_exception\u001b[38;5;241m.\u001b[39mwith_traceback(\u001b[38;5;28mself\u001b[39m\u001b[38;5;241m.\u001b[39m_exception_tb)\n\u001b[1;32m    202\u001b[0m \u001b[38;5;28;01mreturn\u001b[39;00m \u001b[38;5;28mself\u001b[39m\u001b[38;5;241m.\u001b[39m_result\n",
      "File \u001b[0;32m/home/zeus/miniconda3/envs/cloudspace/lib/python3.10/asyncio/tasks.py:232\u001b[0m, in \u001b[0;36mTask.__step\u001b[0;34m(***failed resolving arguments***)\u001b[0m\n\u001b[1;32m    228\u001b[0m \u001b[38;5;28;01mtry\u001b[39;00m:\n\u001b[1;32m    229\u001b[0m     \u001b[38;5;28;01mif\u001b[39;00m exc \u001b[38;5;129;01mis\u001b[39;00m \u001b[38;5;28;01mNone\u001b[39;00m:\n\u001b[1;32m    230\u001b[0m         \u001b[38;5;66;03m# We use the `send` method directly, because coroutines\u001b[39;00m\n\u001b[1;32m    231\u001b[0m         \u001b[38;5;66;03m# don't have `__iter__` and `__next__` methods.\u001b[39;00m\n\u001b[0;32m--> 232\u001b[0m         result \u001b[38;5;241m=\u001b[39m \u001b[43mcoro\u001b[49m\u001b[38;5;241;43m.\u001b[39;49m\u001b[43msend\u001b[49m\u001b[43m(\u001b[49m\u001b[38;5;28;43;01mNone\u001b[39;49;00m\u001b[43m)\u001b[49m\n\u001b[1;32m    233\u001b[0m     \u001b[38;5;28;01melse\u001b[39;00m:\n\u001b[1;32m    234\u001b[0m         result \u001b[38;5;241m=\u001b[39m coro\u001b[38;5;241m.\u001b[39mthrow(exc)\n",
      "File \u001b[0;32m~/RAG/src/utils/utils.py:157\u001b[0m, in \u001b[0;36mpdf_data_loader\u001b[0;34m(filedir, docs_path, filename, parsing_instruction, num_workers)\u001b[0m\n\u001b[1;32m    142\u001b[0m \u001b[38;5;250m\u001b[39m\u001b[38;5;124;03m\"\"\"\u001b[39;00m\n\u001b[1;32m    143\u001b[0m \u001b[38;5;124;03mLoads and parses a PDF file using LlamaParse.\u001b[39;00m\n\u001b[1;32m    144\u001b[0m \n\u001b[0;32m   (...)\u001b[0m\n\u001b[1;32m    154\u001b[0m \u001b[38;5;124;03m- str: The parsed document(s) in the specified result type.\u001b[39;00m\n\u001b[1;32m    155\u001b[0m \u001b[38;5;124;03m\"\"\"\u001b[39;00m\n\u001b[1;32m    156\u001b[0m filepaths \u001b[38;5;241m=\u001b[39m []\n\u001b[0;32m--> 157\u001b[0m \u001b[38;5;28;01mfor\u001b[39;00m file_name \u001b[38;5;129;01min\u001b[39;00m \u001b[43mos\u001b[49m\u001b[38;5;241;43m.\u001b[39;49m\u001b[43mlistdir\u001b[49m\u001b[43m(\u001b[49m\u001b[43mfiledir\u001b[49m\u001b[43m)\u001b[49m:\n\u001b[1;32m    158\u001b[0m     _, file_extension \u001b[38;5;241m=\u001b[39m os\u001b[38;5;241m.\u001b[39mpath\u001b[38;5;241m.\u001b[39msplitext(file_name)\n\u001b[1;32m    159\u001b[0m     file_path \u001b[38;5;241m=\u001b[39m Path(os\u001b[38;5;241m.\u001b[39mpath\u001b[38;5;241m.\u001b[39mjoin(filedir, file_name))\n",
      "\u001b[0;31mFileNotFoundError\u001b[0m: [Errno 2] No such file or directory: '/teamspace/studios/data/pdfs'"
     ]
    }
   ],
   "source": [
    "# fulldocpath = Path.joinpath(docs_path, \"10K_esg\")\n",
    "# fulllnodespath = Path.joinpath(nodes_path)\n",
    "sq_vec_summary_engine = final_query(fulldocpath, fulllnodespath)"
   ]
  },
  {
   "cell_type": "code",
   "execution_count": 16,
   "id": "6fbe2a453180e74a",
   "metadata": {
    "ExecuteTime": {
     "end_time": "2024-05-19T06:02:39.787719Z",
     "start_time": "2024-05-19T06:02:35.863486Z"
    },
    "collapsed": false
   },
   "outputs": [
    {
     "name": "stdout",
     "output_type": "stream",
     "text": [
      "Generated 2 sub questions.\n",
      "\u001b[1;3;38;2;237;90;200m[Tesla10K_Esg_Report_Query_Engine] Q: What was the value of Restructuring and Other in Tesla's 2022 10K report?\n",
      "\u001b[0m\u001b[1;3;38;2;90;149;237m[Tesla10K_Esg_Report_Query_Engine] Q: What was the value of Restructuring and Other in Tesla's 2021 10K report?\n",
      "\u001b[0m\u001b[1;3;38;2;90;149;237m[Tesla10K_Esg_Report_Query_Engine] A: According to the table provided in the context, the value of Restructuring and Other in Tesla's 2021 10K report was ($27).\n",
      "\u001b[0m\u001b[1;3;38;2;237;90;200m[Tesla10K_Esg_Report_Query_Engine] A: According to the table provided in the context, the value of Restructuring and Other charges for Tesla in 2022 was $176 million.\n",
      "\u001b[0mTesla reported an increase of $203 million in Restructuring and Other charges from 2021 to 2022. In 2021, the value was ($27) million, while in 2022 it was $176 million, representing a year-over-year increase of $203 million.\n"
     ]
    }
   ],
   "source": [
    "# esg_query = \"How much was Tesla's Research and Development amount and as a percentage of revenue in 2020?\"\n",
    "# esg_query = \"How much did McKinsey invested in strengthening risk management since 2018?\"\n",
    "# esg_query = \"How much was Tesla's Selling, General, and Administrative expense in 2022?\"\n",
    "# esg_query = \"How much was Tesla's Selling General and Administrative expense in 2022 as a percentage of revenue?\"\n",
    "esg_query = \"How much did Tesla reported as changes in Restructuring and Other in 2022 vs 2021? \"\n",
    "# esg_query = \"How much did Tesla's Selling, General, and Administrative changed from 2022 vs 2021 in dollar amount? \"\n",
    "response = sq_vec_summary_engine.query(esg_query)\n",
    "print(response)\n"
   ]
  },
  {
   "cell_type": "code",
   "execution_count": 3,
   "id": "85e37a79e5da05f",
   "metadata": {
    "ExecuteTime": {
     "end_time": "2024-05-19T05:35:52.682Z",
     "start_time": "2024-05-19T05:35:52.679713Z"
    },
    "collapsed": false
   },
   "outputs": [],
   "source": [
    "# sales_query =\"What is the total sales in Los Angeles\"\n",
    "# sales_query =\"Which Segment sold the most?\" \n",
    "# response = sales_sql_query_engine.query(sales_query)\n",
    "# print(response)"
   ]
  },
  {
   "cell_type": "code",
   "execution_count": 8,
   "id": "692ef121b1338fd0",
   "metadata": {
    "ExecuteTime": {
     "end_time": "2024-05-19T05:53:57.598859Z",
     "start_time": "2024-05-19T05:53:52.551337Z"
    },
    "collapsed": false
   },
   "outputs": [
    {
     "name": "stdout",
     "output_type": "stream",
     "text": [
      "Generated 3 sub questions.\n",
      "\u001b[1;3;38;2;237;90;200m[Tesla10K_Esg_Report_Query_Engine] Q: What was Tesla's Selling, General, and Administrative expenses in 2022?\n",
      "\u001b[0m\u001b[1;3;38;2;90;149;237m[Tesla10K_Esg_Report_Query_Engine] Q: What was Tesla's Selling, General, and Administrative expenses in 2021?\n",
      "\u001b[0m\u001b[1;3;38;2;11;159;203m[Tesla10K_Esg_Report_Query_Engine] Q: What is the difference in Tesla's Selling, General, and Administrative expenses between 2022 and 2021?\n",
      "\u001b[0m\u001b[1;3;38;2;237;90;200m[Tesla10K_Esg_Report_Query_Engine] A: Tesla's Selling, General, and Administrative expenses in 2022 were $3,946 million.\n",
      "\u001b[0m\u001b[1;3;38;2;90;149;237m[Tesla10K_Esg_Report_Query_Engine] A: Tesla's Selling, General, and Administrative expenses in 2021 were $4,517 million.\n",
      "\u001b[0m\u001b[1;3;38;2;11;159;203m[Tesla10K_Esg_Report_Query_Engine] A: The difference in Tesla's Selling, General, and Administrative (SG&A) expenses between 2022 and 2021 was a decrease of $571 million, or 13%. Specifically, the SG&A expenses were $3,946 million in 2022, compared to $4,517 million in 2021, representing a decrease of $571 million or 13% year-over-year.\n",
      "\u001b[0mThe difference in Tesla's Selling, General, and Administrative (SG&A) expenses between 2022 and 2021 was a decrease of $571 million. Specifically, the SG&A expenses were $3,946 million in 2022, compared to $4,517 million in 2021, representing a decrease of $571 million.\n"
     ]
    }
   ],
   "source": [
    "# sales_query =\"What is the total sales in Los Angeles\"\n",
    "# sales_query =\"Which product Segment sold the most using the sales database?\"\n",
    "sales_query =\"How much did Tesla's Selling, General, and Administrative changed from 2022 vs 2021 in dollar amount? \"\n",
    "# sales_query = \"How much was Tesla's Selling General and Administrative expense in 2021 as a percentage of revenues?\"\n",
    "response = sq_vec_summary_engine.query(sales_query)\n",
    "print(str(response))"
   ]
  },
  {
   "cell_type": "code",
   "execution_count": 9,
   "id": "ffb2fc23ce6f5ef7",
   "metadata": {
    "ExecuteTime": {
     "end_time": "2024-05-19T05:55:33.279180Z",
     "start_time": "2024-05-19T05:55:28.252593Z"
    },
    "collapsed": false
   },
   "outputs": [
    {
     "name": "stdout",
     "output_type": "stream",
     "text": [
      "Generated 4 sub questions.\n",
      "\u001b[1;3;38;2;237;90;200m[Tesla10K_Esg_Report_Query_Engine] Q: What was Tesla's Selling General and Administrative expenses in 2022?\n",
      "\u001b[0m\u001b[1;3;38;2;90;149;237m[Tesla10K_Esg_Report_Query_Engine] Q: What was Tesla's Selling General and Administrative expenses in 2021?\n",
      "\u001b[0m\u001b[1;3;38;2;11;159;203m[Tesla10K_Esg_Report_Query_Engine] Q: What were Tesla's total revenues in 2022?\n",
      "\u001b[0m\u001b[1;3;38;2;155;135;227m[Tesla10K_Esg_Report_Query_Engine] Q: What were Tesla's total revenues in 2021?\n",
      "\u001b[0m\u001b[1;3;38;2;90;149;237m[Tesla10K_Esg_Report_Query_Engine] A: Tesla's Selling, General and Administrative expenses in 2021 were $4,517 million.\n",
      "\u001b[0m\u001b[1;3;38;2;11;159;203m[Tesla10K_Esg_Report_Query_Engine] A: Tesla's total revenues in 2022 were $81,462 million.\n",
      "\u001b[0m\u001b[1;3;38;2;155;135;227m[Tesla10K_Esg_Report_Query_Engine] A: Tesla's total revenues in 2021 were $53,823 million.\n",
      "\u001b[0m\u001b[1;3;38;2;237;90;200m[Tesla10K_Esg_Report_Query_Engine] A: Tesla's Selling, General and Administrative (SG&A) expenses in 2022 were $3,946 million.\n",
      "\u001b[0mIn 2022, Tesla's Selling, General and Administrative (SG&A) expenses were $3,946 million, which represented 4.8% of its total revenues of $81,462 million for that year.\n",
      "\n",
      "In 2021, Tesla's SG&A expenses were $4,517 million, which represented 8.4% of its total revenues of $53,823 million for that year.\n",
      "\n",
      "Therefore, Tesla's SG&A expenses as a percentage of revenues decreased from 8.4% in 2021 to 4.8% in 2022.\n"
     ]
    }
   ],
   "source": [
    "# esg_query = \"How is McKinsey responding to the war in Ukraine in its sustainability effort?\"\n",
    "# esg_query =\"How does Deloitte's sustainbaility goals differs from that of McKinsey\"\n",
    "# esg_query = \"Summarize Deloitte ESg report\"\n",
    "# esg_query = \"How much was Tesla's Selling, General, and Administrative expense in 2022?\"\n",
    "# esg_query = \"How much did Tesla's Selling, General, and Administrative changed from 2022 vs 2021 in dollar amount? \"\n",
    "esg_query = \"How much was Tesla's Selling General and Administrative  in 2022 vs 2021 as a percentage of revenues?\"\n",
    "response = sq_vec_summary_engine.query(esg_query)\n",
    "print(response)"
   ]
  },
  {
   "cell_type": "code",
   "execution_count": null,
   "id": "a45e85c2de91f85b",
   "metadata": {
    "collapsed": false
   },
   "outputs": [],
   "source": []
  }
 ],
 "metadata": {
  "kernelspec": {
   "display_name": "Python 3",
   "language": "python",
   "name": "python3"
  },
  "language_info": {
   "codemirror_mode": {
    "name": "ipython",
    "version": 3
   },
   "file_extension": ".py",
   "mimetype": "text/x-python",
   "name": "python",
   "nbconvert_exporter": "python",
   "pygments_lexer": "ipython3",
   "version": "3.10.10"
  }
 },
 "nbformat": 4,
 "nbformat_minor": 5
}
