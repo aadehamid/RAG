{
 "cells": [
  {
   "cell_type": "code",
   "execution_count": 1,
   "id": "initial_id",
   "metadata": {
    "collapsed": true,
    "ExecuteTime": {
     "end_time": "2024-05-19T05:23:43.543151Z",
     "start_time": "2024-05-19T05:23:37.192382Z"
    }
   },
   "outputs": [],
   "source": [
    "import os\n",
    "from pathlib import Path\n",
    "from dotenv import load_dotenv, find_dotenv\n",
    "import pickle\n",
    "import asyncio\n",
    "import nest_asyncio\n",
    "nest_asyncio.apply()\n",
    "\n",
    "from src.utils import (\n",
    "    pdf_data_loader,\n",
    "    get_nodes,\n",
    "    get_index,\n",
    "    get_sentence_window_query_engine,\n",
    "load_data_to_sql_db,\n",
    "csv_excel_data_loader,\n",
    "text_to_query_engine\n",
    "    )\n",
    "from sqlalchemy import create_engine\n",
    "import sqlite3\n",
    "load_dotenv(find_dotenv())\n",
    "from llama_index.core import SummaryIndex\n",
    "from llama_index.core.agent import FunctionCallingAgentWorker, AgentRunner\n",
    "from llama_index.llms.anthropic import Anthropic\n",
    "from llama_index.llms.openai import OpenAI\n",
    "from llama_index.core.selectors import LLMSingleSelector, PydanticSingleSelector\n",
    "from llama_index.core.query_engine import RouterQueryEngine, SubQuestionQueryEngine\n",
    "from llama_index.core.tools import QueryEngineTool, ToolMetadata\n",
    "# Load the autoreload extension\n",
    "%load_ext autoreload\n",
    "\n",
    "# Set autoreload to reload all modules automatically before executing code\n",
    "%autoreload 2"
   ]
  },
  {
   "cell_type": "code",
   "outputs": [],
   "source": [
    "# File Paths\n",
    "# File Paths\n",
    "current_path = Path.cwd()\n",
    "pdf_dirs = current_path.parent / \"data\" / \"pdfs\"\n",
    "# pdf_dirs  = Path(\"/Users/hamidadesokan/Dropbox/2_Skill_Development/DLML/genai_applications/RAG/data/pdfs\")\n",
    "docs_path = current_path.parent / \"data\" / \"llamadocs\"\n",
    "# docs_path = Path(\"/Users/hamidadesokan/Dropbox/2_Skill_Development/DLML/genai_applications/RAG/data/llamadocs\")\n",
    "chroma_path = current_path.parent / \"data\" / \"chromadb\"\n",
    "# chroma_path = Path(\"/Users/hamidadesokan/Dropbox/2_Skill_Development/DLML/genai_applications/RAG/data/chromadb\")\n",
    "sqlitepath = current_path.parent / \"data\" / \"sqlite\" / \"sqlite.db\"\n",
    "# sqlitepath = Path(\"/Users/hamidadesokan/Dropbox/2_Skill_Development/DLML/genai_applications/RAG/data/sqlite/sqlite.db\")\n",
    "# Tesla Data\n",
    "nodes_path = current_path.parent / \"data\" / \"nodes\" / \"tesla_esg_nodes.pkl\"\n",
    "# nodes_path = Path(\"/Users/hamidadesokan/Dropbox/2_Skill_Development/DLML/genai_applications/RAG/data/nodes/tesla_esg_nodes.pkl\")\n",
    "\n",
    "\n",
    "# Sales Data\n",
    "sales_data_path = current_path.parent / \"data\" / \"csv\" / \"kaggle_sample_superstore.csv\"\n",
    "# sales_data_path = Path(\"/Users/hamidadesokan/Dropbox/2_Skill_Development/DLML/genai_applications/RAG/data/csv/kaggle_sample_superstore.csv\")\n",
    "sales_nodes_path = current_path.parent / \"data\" / \"nodes\" / \"sales_nodes.pkl\"\n",
    "# sales_nodes_path = Path(\"/Users/hamidadesokan/Dropbox/2_Skill_Development/DLML/genai_applications/RAG/data/nodes/sales_nodes.pkl\")\n",
    "\n",
    "\n",
    "parsing_instruction = \"\"\"\n",
    "The pdf documents are annual sustainability reports of companies. \n",
    "Always quantify your answer using the numbers cited in the relevant text in the document.\n",
    "Parse every number embedded in the text in a format that is the easiest to use for calculations or retrieval.\n",
    "Parse the numbers that indicates sustainiability metrics for that year as a list of sustainability metrics with relevanat text and numbers. \n",
    "\"\"\"\n"
   ],
   "metadata": {
    "collapsed": false,
    "ExecuteTime": {
     "end_time": "2024-05-19T05:05:35.704384Z",
     "start_time": "2024-05-19T05:05:35.665934Z"
    }
   },
   "id": "741c47832bc42865",
   "execution_count": 29
  },
  {
   "cell_type": "markdown",
   "source": [
    "## Load data and save the Document object"
   ],
   "metadata": {
    "collapsed": false
   },
   "id": "7b5902a2eb62f127"
  },
  {
   "cell_type": "code",
   "outputs": [],
   "source": [
    "fulldocpath = Path.joinpath(docs_path, \"10K_esg\")\n",
    "fulllnodespath = Path.joinpath(nodes_path)\n",
    "def final_query(fulldocpath: Path, fulllnodespath: Path, tablename: str = \"Sales\" ):\n",
    "    if fulldocpath.exists():\n",
    "        print(f\"The path {fulldocpath} exists. Loading from disk...\")\n",
    "        with open(fulldocpath, \"rb\") as f:\n",
    "            esg_docs = pickle.load(f)\n",
    "    else:\n",
    "        print(f\"The path {fulldocpath} does not exist. Creating a new one...\")\n",
    "        esg_docs = asyncio.run(pdf_data_loader(pdf_dirs, docs_path, fulldocpath.name, parsing_instruction, 3))\n",
    "    \n",
    "    if fulllnodespath.exists():\n",
    "        print(f\"The path {fulllnodespath} exists. Loading from disk...\")\n",
    "        with open(fulllnodespath, \"rb\") as f:\n",
    "            esg_nodes = pickle.load(f)\n",
    "    else:\n",
    "        print(f\"The path {fulllnodespath} does not exist. Creating a new one...\")\n",
    "        esg_nodes = get_nodes(esg_docs, nodes_path, is_markdown=True,\n",
    "                                        num_workers=6)\n",
    "    # Create index\n",
    "    esg_index = get_index(str(chroma_path), fulldocpath.name, esg_nodes)\n",
    "    summary_esg_index = SummaryIndex(esg_nodes)\n",
    "\n",
    "    # Create query engine\n",
    "    esg_query_engine = get_sentence_window_query_engine(esg_index, similarity_top_k=6,\n",
    "                                                    rerank_top_n=3)\n",
    "\n",
    "    summary_esg_query_engine = summary_esg_index.as_query_engine(\n",
    "        response_mode=\"tree_summarize\",\n",
    "        use_async=True,)\n",
    "\n",
    "    df = load_data_to_sql_db(str(sales_data_path), str(sqlitepath), tablename)\n",
    "    conn = sqlite3.connect(str(sqlitepath))\n",
    "    engine = create_engine(\"sqlite:///\" + str(sqlitepath))\n",
    "    sales_sql_query_engine = text_to_query_engine([tablename], engine)\n",
    "\n",
    "    llm = Anthropic(model=\"claude-3-opus-20240229\")\n",
    "    # llm = OpenAI(temperature=0.1, model= \"gpt-3.5-turbo\")\n",
    "    esg_tool = QueryEngineTool(\n",
    "        query_engine=esg_query_engine,\n",
    "        metadata=ToolMetadata(\n",
    "            name = \"Tesla10K_Esg_Report_Query_Engine\",\n",
    "            description= \"Tool to query McKinsey and Deloitte annual sustainability report. And Teslas 2022 10K financial statement\"))\n",
    "    sql_tool = QueryEngineTool(\n",
    "        query_engine=sales_sql_query_engine,\n",
    "        metadata=ToolMetadata(\n",
    "        name =\"SQl engine to query the sqlite sales database\",\n",
    "        description=\"Useful for translating a natural language query into a SQL query over\"\n",
    "        \" a table containing: product information\"))\n",
    "    summary_esg_tool = QueryEngineTool(\n",
    "        query_engine=summary_esg_query_engine,\n",
    "        metadata=ToolMetadata(\n",
    "        name =\"Summary ESG Engine\",\n",
    "        description=\"Useful for summarizing the ESG report\"))\n",
    "    query_engine_tools=[\n",
    "        esg_tool,\n",
    "        summary_esg_tool,\n",
    "        sql_tool]\n",
    "\n",
    "    ## SUB QUERY\n",
    "    sq_vec_summary_engine = SubQuestionQueryEngine.from_defaults(\n",
    "        query_engine_tools=query_engine_tools)\n",
    "    return sq_vec_summary_engine\n"
   ],
   "metadata": {
    "collapsed": false,
    "ExecuteTime": {
     "end_time": "2024-05-19T05:21:07.069623Z",
     "start_time": "2024-05-19T05:21:07.029166Z"
    }
   },
   "id": "671d0c86d9533d25",
   "execution_count": 35
  },
  {
   "cell_type": "code",
   "outputs": [
    {
     "name": "stdout",
     "output_type": "stream",
     "text": [
      "The path /Users/hamidadesokan/Dropbox/2_Skill_Development/DLML/genai_applications/RAG/data/llamadocs/10K_esg exists. Loading from disk...\n",
      "The path /Users/hamidadesokan/Dropbox/2_Skill_Development/DLML/genai_applications/RAG/data/nodes/tesla_esg_nodes.pkl exists. Loading from disk...\n",
      "loading index 10K_esg\n"
     ]
    }
   ],
   "source": [
    "from pathlib import Path\n",
    "from src.utils import  final_query, fulldocpath, fulllnodespath\n",
    "import asyncio\n",
    "import nest_asyncio\n",
    "nest_asyncio.apply()\n",
    "# fulldocpath = Path.joinpath(docs_path, \"10K_esg\")\n",
    "# fulllnodespath = Path.joinpath(nodes_path)\n",
    "sq_vec_summary_engine = final_query(fulldocpath, fulllnodespath)"
   ],
   "metadata": {
    "collapsed": false,
    "ExecuteTime": {
     "end_time": "2024-05-19T05:32:12.799806Z",
     "start_time": "2024-05-19T05:32:06.095045Z"
    }
   },
   "id": "19f296e2ca4f2ee0",
   "execution_count": 1
  },
  {
   "cell_type": "code",
   "outputs": [
    {
     "name": "stdout",
     "output_type": "stream",
     "text": [
      "The path /Users/hamidadesokan/Dropbox/2_Skill_Development/DLML/genai_applications/RAG/data/llamadocs/10K_esg exists. Loading from disk...\n",
      "The path /Users/hamidadesokan/Dropbox/2_Skill_Development/DLML/genai_applications/RAG/data/nodes/tesla_esg_nodes.pkl exists. Loading from disk...\n",
      "loading index 10K_esg\n"
     ]
    }
   ],
   "source": [
    "# fulldocpath = Path.joinpath(docs_path, \"10K_esg\")\n",
    "# fulllnodespath = Path.joinpath(nodes_path)\n",
    "# # fullpaths = [fulldocpath, fulllnodespath]\n",
    "# if fulldocpath.exists():\n",
    "#     print(f\"The path {fulldocpath} exists. Loading from disk...\")\n",
    "#     with open(fulldocpath, \"rb\") as f:\n",
    "#         esg_docs = pickle.load(f)\n",
    "# else:\n",
    "#     print(f\"The path {fulldocpath} does not exist. Creating a new one...\")\n",
    "#     esg_docs = asyncio.run(pdf_data_loader(pdf_dirs, docs_path, fulldocpath.name, parsing_instruction, 3))\n",
    "#     \n",
    "# if fulllnodespath.exists():\n",
    "#     print(f\"The path {fulllnodespath} exists. Loading from disk...\")\n",
    "#     with open(fulllnodespath, \"rb\") as f:\n",
    "#         esg_nodes = pickle.load(f)\n",
    "# else:\n",
    "#     print(f\"The path {fulllnodespath} does not exist. Creating a new one...\")\n",
    "#     esg_nodes = get_nodes(esg_docs, nodes_path, is_markdown=True,\n",
    "#                                         num_workers=6)\n",
    "# # Create index\n",
    "# esg_index = get_index(str(chroma_path), fulldocpath.name, esg_nodes)\n",
    "# summary_esg_index = SummaryIndex(esg_nodes)\n",
    "# \n",
    "# # Create query engine\n",
    "# esg_query_engine = get_sentence_window_query_engine(esg_index, similarity_top_k=6,\n",
    "#                                                     rerank_top_n=3)\n",
    "# \n",
    "# summary_esg_query_engine = summary_esg_index.as_query_engine(\n",
    "#     response_mode=\"tree_summarize\",\n",
    "#     use_async=True,\n",
    "# )\n",
    "# \n",
    "# df = load_data_to_sql_db(str(sales_data_path), str(sqlitepath), \"Sales\")\n",
    "# conn = sqlite3.connect(str(sqlitepath))\n",
    "# engine = create_engine(\"sqlite:///\" + str(sqlitepath))\n",
    "# sales_sql_query_engine = text_to_query_engine([\"Sales\"], engine)\n",
    "# \n",
    "# llm = Anthropic(model=\"claude-3-opus-20240229\")\n",
    "# # llm = OpenAI(temperature=0.1, model= \"gpt-3.5-turbo\")\n",
    "# esg_tool = QueryEngineTool(\n",
    "#     query_engine=esg_query_engine,\n",
    "#     metadata=ToolMetadata(\n",
    "#         name = \"Tesla10K_Esg_Report_Query_Engine\",\n",
    "#          description= \"Tool to query McKinsey and Deloitte annual sustainability report. And Teslas 2022 10K financial statement\"))\n",
    "# sql_tool = QueryEngineTool(\n",
    "#     query_engine=sales_sql_query_engine,\n",
    "#     metadata=ToolMetadata(\n",
    "#         name =\"SQl engine to query the sqlite sales database\",\n",
    "#         description=\"Useful for translating a natural language query into a SQL query over\"\n",
    "#         \" a table containing: product information\"))\n",
    "# summary_esg_tool = QueryEngineTool(\n",
    "#     query_engine=summary_esg_query_engine,\n",
    "#     metadata=ToolMetadata(\n",
    "#         name =\"Summary ESG Engine\",\n",
    "#         description=\"Useful for summarizing the ESG report\"))\n",
    "# query_engine_tools=[\n",
    "#         esg_tool,\n",
    "#         summary_esg_tool,\n",
    "#         sql_tool]\n",
    "# \n",
    "# ## SUB QUERY\n",
    "# sq_vec_summary_engine = SubQuestionQueryEngine.from_defaults(\n",
    "#     query_engine_tools=query_engine_tools)"
   ],
   "metadata": {
    "collapsed": false,
    "ExecuteTime": {
     "end_time": "2024-05-19T05:06:22.679257Z",
     "start_time": "2024-05-19T05:06:19.160150Z"
    }
   },
   "id": "f692dfd6f2d71617",
   "execution_count": 30
  },
  {
   "cell_type": "code",
   "outputs": [
    {
     "data": {
      "text/plain": "'10K_esg'"
     },
     "execution_count": 34,
     "metadata": {},
     "output_type": "execute_result"
    }
   ],
   "source": [
    "fulldocpath.name"
   ],
   "metadata": {
    "collapsed": false,
    "ExecuteTime": {
     "end_time": "2024-05-19T05:14:04.234383Z",
     "start_time": "2024-05-19T05:14:04.192948Z"
    }
   },
   "id": "31641e0cf9cf48ee",
   "execution_count": 34
  },
  {
   "cell_type": "code",
   "outputs": [],
   "source": [
    "# esg_docs = asyncio.run(pdf_data_loader(pdf_dirs, docs_path, \"10K_esg\",parsing_instruction, 3))\n",
    "with open(Path.joinpath(docs_path, \"10K_esg\"), \"rb\") as f:\n",
    "    esg_docs = pickle.load(f)"
   ],
   "metadata": {
    "collapsed": false,
    "ExecuteTime": {
     "end_time": "2024-05-19T03:46:53.487329Z",
     "start_time": "2024-05-19T03:46:53.451390Z"
    }
   },
   "id": "c934db330e86fef4",
   "execution_count": 4
  },
  {
   "cell_type": "code",
   "outputs": [],
   "source": [
    "# create nodes\n",
    "# esg_nodes = get_nodes(esg_docs, nodes_path, is_markdown=True,\n",
    "#                                         num_workers=6)\n",
    "# \n",
    "with open(Path.joinpath(nodes_path), \"rb\") as f:\n",
    "    esg_nodes = pickle.load(f)"
   ],
   "metadata": {
    "collapsed": false,
    "ExecuteTime": {
     "end_time": "2024-05-19T03:46:54.347354Z",
     "start_time": "2024-05-19T03:46:54.300916Z"
    }
   },
   "id": "b5787edeb807c301",
   "execution_count": 5
  },
  {
   "cell_type": "code",
   "outputs": [
    {
     "name": "stdout",
     "output_type": "stream",
     "text": [
      "loading index 10K_esg\n"
     ]
    }
   ],
   "source": [
    "# Create index\n",
    "esg_index = get_index(str(chroma_path), \"10K_esg\", esg_nodes)\n",
    "summary_esg_index = SummaryIndex(esg_nodes)"
   ],
   "metadata": {
    "collapsed": false,
    "ExecuteTime": {
     "end_time": "2024-05-19T03:46:58.100303Z",
     "start_time": "2024-05-19T03:46:55.685766Z"
    }
   },
   "id": "1d9a3f9036bc3e60",
   "execution_count": 6
  },
  {
   "cell_type": "code",
   "outputs": [],
   "source": [
    "# Create query engine\n",
    "esg_query_engine = get_sentence_window_query_engine(esg_index, similarity_top_k=6,\n",
    "                                                    rerank_top_n=3)\n",
    "\n",
    "summary_esg_query_engine = summary_esg_index.as_query_engine(\n",
    "    response_mode=\"tree_summarize\",\n",
    "    use_async=True,\n",
    ")"
   ],
   "metadata": {
    "collapsed": false,
    "ExecuteTime": {
     "end_time": "2024-05-19T03:47:00.800041Z",
     "start_time": "2024-05-19T03:47:00.297253Z"
    }
   },
   "id": "d1609687ad4b5af7",
   "execution_count": 7
  },
  {
   "cell_type": "code",
   "outputs": [
    {
     "name": "stdout",
     "output_type": "stream",
     "text": [
      "Tesla's Selling, General and Administrative (SG&A) expenses as a percentage of revenue decreased from 8% in 2021 to 5% in 2022.\n"
     ]
    }
   ],
   "source": [
    "# esg_query = \"How much was Tesla's Research and Development amount and as a percentage of revenue in 2020?\"\n",
    "# esg_query = \"How much did McKinsey invested in strengthening risk management since 2018?\"\n",
    "# esg_query = \"How much was Tesla's Selling, General, and Administrative expense in 2022?\"\n",
    "esg_query = \"How much was Tesla's Selling General and Administrative expense in 2022 as a percentage of revenue?\"\n",
    "# esg_query = \"How much did Tesla's Selling, General, and Administrative changed from 2022 vs 2021 in dollar amount? \"\n",
    "response = esg_query_engine.query(esg_query)\n",
    "print(response)\n"
   ],
   "metadata": {
    "collapsed": false,
    "ExecuteTime": {
     "end_time": "2024-05-19T05:06:33.739548Z",
     "start_time": "2024-05-19T05:06:31.827329Z"
    }
   },
   "id": "6fbe2a453180e74a",
   "execution_count": 31
  },
  {
   "cell_type": "code",
   "outputs": [],
   "source": [
    "df = load_data_to_sql_db(str(sales_data_path), str(sqlitepath), \"Sales\")\n",
    "conn = sqlite3.connect(str(sqlitepath))\n",
    "engine = create_engine(\"sqlite:///\" + str(sqlitepath))\n",
    "sales_sql_query_engine = text_to_query_engine([\"Sales\"], engine)"
   ],
   "metadata": {
    "collapsed": false,
    "ExecuteTime": {
     "end_time": "2024-05-19T03:47:12.316235Z",
     "start_time": "2024-05-19T03:47:11.983666Z"
    }
   },
   "id": "e9c8308f522a046",
   "execution_count": 9
  },
  {
   "cell_type": "code",
   "outputs": [
    {
     "name": "stdout",
     "output_type": "stream",
     "text": [
      "Based on the SQL query provided, the segment that sold the most is the \"Consumer\" segment, with a total sales of 1,161,401.34.\n",
      "\n",
      "The SQL query first groups the sales data by the \"Segment\" column, calculates the total sales for each segment using the SUM(Sales) function, orders the results by the total sales in descending order, and then takes the first (LIMIT 1) result, which represents the segment with the highest total sales.\n",
      "\n",
      "Therefore, the response to the given query \"Which Segment sold the most?\" would be:\n",
      "\n",
      "\"The Consumer segment sold the most, with a total sales of 1,161,401.34.\"\n"
     ]
    }
   ],
   "source": [
    "# sales_query =\"What is the total sales in Los Angeles\"\n",
    "sales_query =\"Which Segment sold the most?\" \n",
    "response = sales_sql_query_engine.query(sales_query)\n",
    "print(response)"
   ],
   "metadata": {
    "collapsed": false,
    "ExecuteTime": {
     "end_time": "2024-05-19T03:47:16.251950Z",
     "start_time": "2024-05-19T03:47:13.480365Z"
    }
   },
   "id": "85e37a79e5da05f",
   "execution_count": 10
  },
  {
   "cell_type": "code",
   "outputs": [],
   "source": [
    "from llama_index.core.agent import FunctionCallingAgentWorker, AgentRunner\n",
    "from llama_index.llms.anthropic import Anthropic\n",
    "from llama_index.llms.openai import OpenAI\n",
    "from llama_index.core.selectors import LLMSingleSelector, PydanticSingleSelector\n",
    "from llama_index.core.query_engine import RouterQueryEngine, SubQuestionQueryEngine\n",
    "from llama_index.core.tools import QueryEngineTool, ToolMetadata\n",
    "# model_name = \"claude-3-haiku-20240307\"\n",
    "llm = Anthropic(model=\"claude-3-opus-20240229\")\n",
    "# llm = OpenAI(temperature=0.1, model= \"gpt-3.5-turbo\")\n",
    "esg_tool = QueryEngineTool(\n",
    "    query_engine=esg_query_engine,\n",
    "    metadata=ToolMetadata(\n",
    "        name = \"Tesla10K_Esg_Report_Query_Engine\",\n",
    "         description= \"Tool to query McKinsey and Deloitte annual sustainability report. And Teslas 2022 10K financial statement\"))\n",
    "sql_tool = QueryEngineTool(\n",
    "    query_engine=sales_sql_query_engine,\n",
    "    metadata=ToolMetadata(\n",
    "        name =\"SQl engine to query the sqlite sales database\",\n",
    "        description=\"Useful for translating a natural language query into a SQL query over\"\n",
    "        \" a table containing: product information\"))\n",
    "summary_esg_tool = QueryEngineTool(\n",
    "    query_engine=summary_esg_query_engine,\n",
    "    metadata=ToolMetadata(\n",
    "        name =\"Summary ESG Engine\",\n",
    "        description=\"Useful for summarizing the ESG report\"))\n",
    "query_engine_tools=[\n",
    "        esg_tool,\n",
    "        summary_esg_tool,\n",
    "        sql_tool]\n",
    "\n",
    "## ROUTER\n",
    "# query_engine = RouterQueryEngine(\n",
    "#     selector=PydanticSingleSelector.from_defaults(llm=llm),\n",
    "#     query_engine_tools=query_engine_tools,\n",
    "# )\n",
    "\n",
    "## SUB QUERY\n",
    "sq_vec_summary_engine = SubQuestionQueryEngine.from_defaults(\n",
    "    query_engine_tools=query_engine_tools)\n",
    "\n",
    "## ANTHROPIC AGENT\n",
    "# agent_worker = FunctionCallingAgentWorker.from_tools(\n",
    "#     query_engine_tools, llm=llm, verbose=True\n",
    "# )\n",
    "# agent = AgentRunner(agent_worker)"
   ],
   "metadata": {
    "collapsed": false,
    "ExecuteTime": {
     "end_time": "2024-05-19T03:47:18.350888Z",
     "start_time": "2024-05-19T03:47:18.091727Z"
    }
   },
   "id": "89a2653c79cf3a46",
   "execution_count": 11
  },
  {
   "cell_type": "code",
   "outputs": [
    {
     "name": "stdout",
     "output_type": "stream",
     "text": [
      "Generated 3 sub questions.\n",
      "\u001B[1;3;38;2;237;90;200m[Tesla10K_Esg_Report_Query_Engine] Q: What was Tesla's Selling, General, and Administrative expenses in 2022?\n",
      "\u001B[0m\u001B[1;3;38;2;90;149;237m[Tesla10K_Esg_Report_Query_Engine] Q: What was Tesla's Selling, General, and Administrative expenses in 2021?\n",
      "\u001B[0m\u001B[1;3;38;2;11;159;203m[Tesla10K_Esg_Report_Query_Engine] Q: What is the difference in Tesla's Selling, General, and Administrative expenses between 2022 and 2021?\n",
      "\u001B[0m\u001B[1;3;38;2;237;90;200m[Tesla10K_Esg_Report_Query_Engine] A: Tesla's Selling, General, and Administrative expenses in 2022 were $3,946 million.\n",
      "\u001B[0m\u001B[1;3;38;2;90;149;237m[Tesla10K_Esg_Report_Query_Engine] A: Tesla's Selling, General, and Administrative expenses in 2021 were $4,517 million.\n",
      "\u001B[0m\u001B[1;3;38;2;11;159;203m[Tesla10K_Esg_Report_Query_Engine] A: The difference in Tesla's Selling, General, and Administrative (SG&A) expenses between 2022 and 2021 was a decrease of $571 million, or 13%. Specifically, the SG&A expenses were $3,946 million in 2022, compared to $4,517 million in 2021, representing a decrease of $571 million or 13% year-over-year.\n",
      "\u001B[0mThe difference in Tesla's Selling, General, and Administrative (SG&A) expenses between 2022 and 2021 was a decrease of $571 million. Specifically, the SG&A expenses were $3,946 million in 2022, compared to $4,517 million in 2021, representing a decrease of $571 million.\n"
     ]
    }
   ],
   "source": [
    "# sales_query =\"What is the total sales in Los Angeles\"\n",
    "# sales_query =\"Which product Segment sold the most using the sales database?\"\n",
    "sales_query =\"How much did Tesla's Selling, General, and Administrative changed from 2022 vs 2021 in dollar amount? \"\n",
    "response = sq_vec_summary_engine.query(sales_query)\n",
    "print(response)"
   ],
   "metadata": {
    "collapsed": false,
    "ExecuteTime": {
     "end_time": "2024-05-19T05:32:27.227097Z",
     "start_time": "2024-05-19T05:32:22.317507Z"
    }
   },
   "id": "692ef121b1338fd0",
   "execution_count": 2
  },
  {
   "cell_type": "code",
   "outputs": [
    {
     "name": "stdout",
     "output_type": "stream",
     "text": [
      "Generated 3 sub questions.\n"
     ]
    },
    {
     "ename": "RuntimeError",
     "evalue": "asyncio.run() cannot be called from a running event loop",
     "output_type": "error",
     "traceback": [
      "\u001B[0;31m---------------------------------------------------------------------------\u001B[0m",
      "\u001B[0;31mRuntimeError\u001B[0m                              Traceback (most recent call last)",
      "File \u001B[0;32m~/Dropbox/2_Skill_Development/DLML/genai_applications/RAG/.venv/lib/python3.11/site-packages/llama_index/core/async_utils.py:30\u001B[0m, in \u001B[0;36masyncio_run\u001B[0;34m(coro)\u001B[0m\n\u001B[1;32m     29\u001B[0m     loop \u001B[38;5;241m=\u001B[39m asyncio\u001B[38;5;241m.\u001B[39mget_event_loop()\n\u001B[0;32m---> 30\u001B[0m     \u001B[38;5;28;01mreturn\u001B[39;00m \u001B[43mloop\u001B[49m\u001B[38;5;241;43m.\u001B[39;49m\u001B[43mrun_until_complete\u001B[49m\u001B[43m(\u001B[49m\u001B[43mcoro\u001B[49m\u001B[43m)\u001B[49m\n\u001B[1;32m     31\u001B[0m \u001B[38;5;28;01mexcept\u001B[39;00m \u001B[38;5;167;01mRuntimeError\u001B[39;00m:\n",
      "File \u001B[0;32m/Library/Frameworks/Python.framework/Versions/3.11/lib/python3.11/asyncio/base_events.py:629\u001B[0m, in \u001B[0;36mBaseEventLoop.run_until_complete\u001B[0;34m(self, future)\u001B[0m\n\u001B[1;32m    628\u001B[0m \u001B[38;5;28mself\u001B[39m\u001B[38;5;241m.\u001B[39m_check_closed()\n\u001B[0;32m--> 629\u001B[0m \u001B[38;5;28;43mself\u001B[39;49m\u001B[38;5;241;43m.\u001B[39;49m\u001B[43m_check_running\u001B[49m\u001B[43m(\u001B[49m\u001B[43m)\u001B[49m\n\u001B[1;32m    631\u001B[0m new_task \u001B[38;5;241m=\u001B[39m \u001B[38;5;129;01mnot\u001B[39;00m futures\u001B[38;5;241m.\u001B[39misfuture(future)\n",
      "File \u001B[0;32m/Library/Frameworks/Python.framework/Versions/3.11/lib/python3.11/asyncio/base_events.py:588\u001B[0m, in \u001B[0;36mBaseEventLoop._check_running\u001B[0;34m(self)\u001B[0m\n\u001B[1;32m    587\u001B[0m \u001B[38;5;28;01mif\u001B[39;00m \u001B[38;5;28mself\u001B[39m\u001B[38;5;241m.\u001B[39mis_running():\n\u001B[0;32m--> 588\u001B[0m     \u001B[38;5;28;01mraise\u001B[39;00m \u001B[38;5;167;01mRuntimeError\u001B[39;00m(\u001B[38;5;124m'\u001B[39m\u001B[38;5;124mThis event loop is already running\u001B[39m\u001B[38;5;124m'\u001B[39m)\n\u001B[1;32m    589\u001B[0m \u001B[38;5;28;01mif\u001B[39;00m events\u001B[38;5;241m.\u001B[39m_get_running_loop() \u001B[38;5;129;01mis\u001B[39;00m \u001B[38;5;129;01mnot\u001B[39;00m \u001B[38;5;28;01mNone\u001B[39;00m:\n",
      "\u001B[0;31mRuntimeError\u001B[0m: This event loop is already running",
      "\nDuring handling of the above exception, another exception occurred:\n",
      "\u001B[0;31mRuntimeError\u001B[0m                              Traceback (most recent call last)",
      "Cell \u001B[0;32mIn[5], line 7\u001B[0m\n\u001B[1;32m      2\u001B[0m esg_query \u001B[38;5;241m=\u001B[39m\u001B[38;5;124m\"\u001B[39m\u001B[38;5;124mHow does Deloitte\u001B[39m\u001B[38;5;124m'\u001B[39m\u001B[38;5;124ms sustainbaility goals differs from that of McKinsey\u001B[39m\u001B[38;5;124m\"\u001B[39m\n\u001B[1;32m      3\u001B[0m \u001B[38;5;66;03m# esg_query = \"Summarize McKinsey ESg report\"\u001B[39;00m\n\u001B[1;32m      4\u001B[0m \u001B[38;5;66;03m# esg_query = \"How much was Tesla's Selling, General, and Administrative expense in 2022?\"\u001B[39;00m\n\u001B[1;32m      5\u001B[0m \u001B[38;5;66;03m# esg_query = \"How much did Tesla's Selling, General, and Administrative changed from 2022 vs 2021 in dollar amount? \"\u001B[39;00m\n\u001B[1;32m      6\u001B[0m \u001B[38;5;66;03m# esg_query = \"How much was Tesla's Selling General and Administrative expense in 2022 as a percentage of revenue?\"\u001B[39;00m\n\u001B[0;32m----> 7\u001B[0m response \u001B[38;5;241m=\u001B[39m \u001B[43msq_vec_summary_engine\u001B[49m\u001B[38;5;241;43m.\u001B[39;49m\u001B[43mquery\u001B[49m\u001B[43m(\u001B[49m\u001B[43mesg_query\u001B[49m\u001B[43m)\u001B[49m\n\u001B[1;32m      8\u001B[0m \u001B[38;5;28mprint\u001B[39m(response)\n",
      "File \u001B[0;32m~/Dropbox/2_Skill_Development/DLML/genai_applications/RAG/.venv/lib/python3.11/site-packages/llama_index/core/instrumentation/dispatcher.py:274\u001B[0m, in \u001B[0;36mDispatcher.span.<locals>.wrapper\u001B[0;34m(func, instance, args, kwargs)\u001B[0m\n\u001B[1;32m    270\u001B[0m \u001B[38;5;28mself\u001B[39m\u001B[38;5;241m.\u001B[39mspan_enter(\n\u001B[1;32m    271\u001B[0m     id_\u001B[38;5;241m=\u001B[39mid_, bound_args\u001B[38;5;241m=\u001B[39mbound_args, instance\u001B[38;5;241m=\u001B[39minstance, parent_id\u001B[38;5;241m=\u001B[39mparent_id\n\u001B[1;32m    272\u001B[0m )\n\u001B[1;32m    273\u001B[0m \u001B[38;5;28;01mtry\u001B[39;00m:\n\u001B[0;32m--> 274\u001B[0m     result \u001B[38;5;241m=\u001B[39m \u001B[43mfunc\u001B[49m\u001B[43m(\u001B[49m\u001B[38;5;241;43m*\u001B[39;49m\u001B[43margs\u001B[49m\u001B[43m,\u001B[49m\u001B[43m \u001B[49m\u001B[38;5;241;43m*\u001B[39;49m\u001B[38;5;241;43m*\u001B[39;49m\u001B[43mkwargs\u001B[49m\u001B[43m)\u001B[49m\n\u001B[1;32m    275\u001B[0m \u001B[38;5;28;01mexcept\u001B[39;00m \u001B[38;5;167;01mBaseException\u001B[39;00m \u001B[38;5;28;01mas\u001B[39;00m e:\n\u001B[1;32m    276\u001B[0m     \u001B[38;5;28mself\u001B[39m\u001B[38;5;241m.\u001B[39mevent(SpanDropEvent(span_id\u001B[38;5;241m=\u001B[39mid_, err_str\u001B[38;5;241m=\u001B[39m\u001B[38;5;28mstr\u001B[39m(e)))\n",
      "File \u001B[0;32m~/Dropbox/2_Skill_Development/DLML/genai_applications/RAG/.venv/lib/python3.11/site-packages/llama_index/core/base/base_query_engine.py:53\u001B[0m, in \u001B[0;36mBaseQueryEngine.query\u001B[0;34m(self, str_or_query_bundle)\u001B[0m\n\u001B[1;32m     51\u001B[0m     \u001B[38;5;28;01mif\u001B[39;00m \u001B[38;5;28misinstance\u001B[39m(str_or_query_bundle, \u001B[38;5;28mstr\u001B[39m):\n\u001B[1;32m     52\u001B[0m         str_or_query_bundle \u001B[38;5;241m=\u001B[39m QueryBundle(str_or_query_bundle)\n\u001B[0;32m---> 53\u001B[0m     query_result \u001B[38;5;241m=\u001B[39m \u001B[38;5;28;43mself\u001B[39;49m\u001B[38;5;241;43m.\u001B[39;49m\u001B[43m_query\u001B[49m\u001B[43m(\u001B[49m\u001B[43mstr_or_query_bundle\u001B[49m\u001B[43m)\u001B[49m\n\u001B[1;32m     54\u001B[0m dispatch_event(QueryEndEvent(query\u001B[38;5;241m=\u001B[39mstr_or_query_bundle, response\u001B[38;5;241m=\u001B[39mquery_result))\n\u001B[1;32m     55\u001B[0m \u001B[38;5;28;01mreturn\u001B[39;00m query_result\n",
      "File \u001B[0;32m~/Dropbox/2_Skill_Development/DLML/genai_applications/RAG/.venv/lib/python3.11/site-packages/llama_index/core/query_engine/sub_question_query_engine.py:158\u001B[0m, in \u001B[0;36mSubQuestionQueryEngine._query\u001B[0;34m(self, query_bundle)\u001B[0m\n\u001B[1;32m    152\u001B[0m \u001B[38;5;28;01mif\u001B[39;00m \u001B[38;5;28mself\u001B[39m\u001B[38;5;241m.\u001B[39m_use_async:\n\u001B[1;32m    153\u001B[0m     tasks \u001B[38;5;241m=\u001B[39m [\n\u001B[1;32m    154\u001B[0m         \u001B[38;5;28mself\u001B[39m\u001B[38;5;241m.\u001B[39m_aquery_subq(sub_q, color\u001B[38;5;241m=\u001B[39mcolors[\u001B[38;5;28mstr\u001B[39m(ind)])\n\u001B[1;32m    155\u001B[0m         \u001B[38;5;28;01mfor\u001B[39;00m ind, sub_q \u001B[38;5;129;01min\u001B[39;00m \u001B[38;5;28menumerate\u001B[39m(sub_questions)\n\u001B[1;32m    156\u001B[0m     ]\n\u001B[0;32m--> 158\u001B[0m     qa_pairs_all \u001B[38;5;241m=\u001B[39m \u001B[43mrun_async_tasks\u001B[49m\u001B[43m(\u001B[49m\u001B[43mtasks\u001B[49m\u001B[43m)\u001B[49m\n\u001B[1;32m    159\u001B[0m     qa_pairs_all \u001B[38;5;241m=\u001B[39m cast(List[Optional[SubQuestionAnswerPair]], qa_pairs_all)\n\u001B[1;32m    160\u001B[0m \u001B[38;5;28;01melse\u001B[39;00m:\n",
      "File \u001B[0;32m~/Dropbox/2_Skill_Development/DLML/genai_applications/RAG/.venv/lib/python3.11/site-packages/llama_index/core/async_utils.py:66\u001B[0m, in \u001B[0;36mrun_async_tasks\u001B[0;34m(tasks, show_progress, progress_bar_desc)\u001B[0m\n\u001B[1;32m     63\u001B[0m \u001B[38;5;28;01masync\u001B[39;00m \u001B[38;5;28;01mdef\u001B[39;00m \u001B[38;5;21m_gather\u001B[39m() \u001B[38;5;241m-\u001B[39m\u001B[38;5;241m>\u001B[39m List[Any]:\n\u001B[1;32m     64\u001B[0m     \u001B[38;5;28;01mreturn\u001B[39;00m \u001B[38;5;28;01mawait\u001B[39;00m asyncio\u001B[38;5;241m.\u001B[39mgather(\u001B[38;5;241m*\u001B[39mtasks_to_execute)\n\u001B[0;32m---> 66\u001B[0m outputs: List[Any] \u001B[38;5;241m=\u001B[39m \u001B[43masyncio_run\u001B[49m\u001B[43m(\u001B[49m\u001B[43m_gather\u001B[49m\u001B[43m(\u001B[49m\u001B[43m)\u001B[49m\u001B[43m)\u001B[49m\n\u001B[1;32m     67\u001B[0m \u001B[38;5;28;01mreturn\u001B[39;00m outputs\n",
      "File \u001B[0;32m~/Dropbox/2_Skill_Development/DLML/genai_applications/RAG/.venv/lib/python3.11/site-packages/llama_index/core/async_utils.py:32\u001B[0m, in \u001B[0;36masyncio_run\u001B[0;34m(coro)\u001B[0m\n\u001B[1;32m     30\u001B[0m     \u001B[38;5;28;01mreturn\u001B[39;00m loop\u001B[38;5;241m.\u001B[39mrun_until_complete(coro)\n\u001B[1;32m     31\u001B[0m \u001B[38;5;28;01mexcept\u001B[39;00m \u001B[38;5;167;01mRuntimeError\u001B[39;00m:\n\u001B[0;32m---> 32\u001B[0m     \u001B[38;5;28;01mreturn\u001B[39;00m \u001B[43masyncio\u001B[49m\u001B[38;5;241;43m.\u001B[39;49m\u001B[43mrun\u001B[49m\u001B[43m(\u001B[49m\u001B[43mcoro\u001B[49m\u001B[43m)\u001B[49m\n",
      "File \u001B[0;32m/Library/Frameworks/Python.framework/Versions/3.11/lib/python3.11/asyncio/runners.py:186\u001B[0m, in \u001B[0;36mrun\u001B[0;34m(main, debug)\u001B[0m\n\u001B[1;32m    161\u001B[0m \u001B[38;5;250m\u001B[39m\u001B[38;5;124;03m\"\"\"Execute the coroutine and return the result.\u001B[39;00m\n\u001B[1;32m    162\u001B[0m \n\u001B[1;32m    163\u001B[0m \u001B[38;5;124;03mThis function runs the passed coroutine, taking care of\u001B[39;00m\n\u001B[0;32m   (...)\u001B[0m\n\u001B[1;32m    182\u001B[0m \u001B[38;5;124;03m    asyncio.run(main())\u001B[39;00m\n\u001B[1;32m    183\u001B[0m \u001B[38;5;124;03m\"\"\"\u001B[39;00m\n\u001B[1;32m    184\u001B[0m \u001B[38;5;28;01mif\u001B[39;00m events\u001B[38;5;241m.\u001B[39m_get_running_loop() \u001B[38;5;129;01mis\u001B[39;00m \u001B[38;5;129;01mnot\u001B[39;00m \u001B[38;5;28;01mNone\u001B[39;00m:\n\u001B[1;32m    185\u001B[0m     \u001B[38;5;66;03m# fail fast with short traceback\u001B[39;00m\n\u001B[0;32m--> 186\u001B[0m     \u001B[38;5;28;01mraise\u001B[39;00m \u001B[38;5;167;01mRuntimeError\u001B[39;00m(\n\u001B[1;32m    187\u001B[0m         \u001B[38;5;124m\"\u001B[39m\u001B[38;5;124masyncio.run() cannot be called from a running event loop\u001B[39m\u001B[38;5;124m\"\u001B[39m)\n\u001B[1;32m    189\u001B[0m \u001B[38;5;28;01mwith\u001B[39;00m Runner(debug\u001B[38;5;241m=\u001B[39mdebug) \u001B[38;5;28;01mas\u001B[39;00m runner:\n\u001B[1;32m    190\u001B[0m     \u001B[38;5;28;01mreturn\u001B[39;00m runner\u001B[38;5;241m.\u001B[39mrun(main)\n",
      "\u001B[0;31mRuntimeError\u001B[0m: asyncio.run() cannot be called from a running event loop"
     ]
    }
   ],
   "source": [
    "# esg_query = \"How is McKinsey responding to the war in Ukraine in its sustainability effort?\"\n",
    "esg_query =\"How does Deloitte's sustainbaility goals differs from that of McKinsey\"\n",
    "# esg_query = \"Summarize McKinsey ESg report\"\n",
    "# esg_query = \"How much was Tesla's Selling, General, and Administrative expense in 2022?\"\n",
    "# esg_query = \"How much did Tesla's Selling, General, and Administrative changed from 2022 vs 2021 in dollar amount? \"\n",
    "# esg_query = \"How much was Tesla's Selling General and Administrative expense in 2022 as a percentage of revenue?\"\n",
    "response = sq_vec_summary_engine.query(esg_query)\n",
    "print(response)"
   ],
   "metadata": {
    "collapsed": false,
    "ExecuteTime": {
     "end_time": "2024-05-19T05:29:40.225240Z",
     "start_time": "2024-05-19T05:29:38.219823Z"
    }
   },
   "id": "ffb2fc23ce6f5ef7",
   "execution_count": 5
  },
  {
   "cell_type": "code",
   "outputs": [],
   "source": [],
   "metadata": {
    "collapsed": false
   },
   "id": "a45e85c2de91f85b"
  }
 ],
 "metadata": {
  "kernelspec": {
   "display_name": "Python 3",
   "language": "python",
   "name": "python3"
  },
  "language_info": {
   "codemirror_mode": {
    "name": "ipython",
    "version": 2
   },
   "file_extension": ".py",
   "mimetype": "text/x-python",
   "name": "python",
   "nbconvert_exporter": "python",
   "pygments_lexer": "ipython2",
   "version": "2.7.6"
  }
 },
 "nbformat": 4,
 "nbformat_minor": 5
}
