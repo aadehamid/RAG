{
 "cells": [
  {
   "cell_type": "code",
   "execution_count": 1,
   "id": "initial_id",
   "metadata": {
    "collapsed": true,
    "ExecuteTime": {
     "end_time": "2024-05-13T05:15:23.745800Z",
     "start_time": "2024-05-13T05:15:20.489887Z"
    }
   },
   "outputs": [
    {
     "data": {
      "text/plain": "True"
     },
     "execution_count": 1,
     "metadata": {},
     "output_type": "execute_result"
    }
   ],
   "source": [
    "import os\n",
    "from pathlib import Path\n",
    "from dotenv import load_dotenv, find_dotenv\n",
    "import pickle\n",
    "import asyncio\n",
    "import nest_asyncio\n",
    "nest_asyncio.apply()\n",
    "\n",
    "from src.utils import (\n",
    "    pdf_data_loader,\n",
    "    get_nodes,\n",
    "    get_index,\n",
    "    get_sentence_window_query_engine,\n",
    "load_data_to_sql_db,\n",
    "csv_excel_data_loader,\n",
    "text_to_query_engine\n",
    "    )\n",
    "from sqlalchemy import create_engine\n",
    "import sqlite3\n",
    "load_dotenv(find_dotenv())"
   ]
  },
  {
   "cell_type": "code",
   "outputs": [],
   "source": [
    "# File Paths\n",
    "# File Paths\n",
    "current_path = Path.cwd()\n",
    "pdf_dirs = current_path.parent / \"data\" / \"pdfs\"\n",
    "# pdf_dirs  = Path(\"/Users/hamidadesokan/Dropbox/2_Skill_Development/DLML/genai_applications/RAG/data/pdfs\")\n",
    "docs_path = current_path.parent / \"data\" / \"llamadocs\"\n",
    "# docs_path = Path(\"/Users/hamidadesokan/Dropbox/2_Skill_Development/DLML/genai_applications/RAG/data/llamadocs\")\n",
    "chroma_path = current_path.parent / \"data\" / \"chromadb\"\n",
    "# chroma_path = Path(\"/Users/hamidadesokan/Dropbox/2_Skill_Development/DLML/genai_applications/RAG/data/chromadb\")\n",
    "sqlitepath = current_path.parent / \"data\" / \"sqlite\" / \"sqlite.db\"\n",
    "# sqlitepath = Path(\"/Users/hamidadesokan/Dropbox/2_Skill_Development/DLML/genai_applications/RAG/data/sqlite/sqlite.db\")\n",
    "# Tesla Data\n",
    "nodes_path = current_path.parent / \"data\" / \"nodes\" / \"tesla_esg_nodes.pkl\"\n",
    "# nodes_path = Path(\"/Users/hamidadesokan/Dropbox/2_Skill_Development/DLML/genai_applications/RAG/data/nodes/tesla_esg_nodes.pkl\")\n",
    "\n",
    "\n",
    "# Sales Data\n",
    "sales_data_path = current_path.parent / \"data\" / \"csv\" / \"kaggle_sample_superstore.csv\"\n",
    "# sales_data_path = Path(\"/Users/hamidadesokan/Dropbox/2_Skill_Development/DLML/genai_applications/RAG/data/csv/kaggle_sample_superstore.csv\")\n",
    "sales_nodes_path = current_path.parent / \"data\" / \"nodes\" / \"sales_nodes.pkl\"\n",
    "# sales_nodes_path = Path(\"/Users/hamidadesokan/Dropbox/2_Skill_Development/DLML/genai_applications/RAG/data/nodes/sales_nodes.pkl\")\n",
    "\n",
    "\n",
    "parsing_instruction = \"\"\"\n",
    "The pdf documents are annual sustainability reports of companies. \n",
    "Always quantify your answer using the numbers cited in the relevant text in the document.\n",
    "Parse every number embedded in the text in a format that is the easiest to use for calculations or retrieval.\n",
    "Parse the numbers that indicates sustainiability metrics for that year as a list of sustainability metrics with relevanat text and numbers. \n",
    "\"\"\"\n"
   ],
   "metadata": {
    "collapsed": false,
    "ExecuteTime": {
     "end_time": "2024-05-13T05:15:25.161836Z",
     "start_time": "2024-05-13T05:15:25.157692Z"
    }
   },
   "id": "741c47832bc42865",
   "execution_count": 2
  },
  {
   "cell_type": "markdown",
   "source": [
    "## Load data and save the Document object"
   ],
   "metadata": {
    "collapsed": false
   },
   "id": "7b5902a2eb62f127"
  },
  {
   "cell_type": "code",
   "outputs": [],
   "source": [
    "# esg_docs = asyncio.run(pdf_data_loader(pdf_dirs, docs_path, \"10K_esg\",parsing_instruction, 3))\n",
    "with open(Path.joinpath(docs_path, \"10K_esg\"), \"rb\") as f:\n",
    "    esg_docs = pickle.load(f)"
   ],
   "metadata": {
    "collapsed": false,
    "ExecuteTime": {
     "end_time": "2024-05-13T05:15:31.813217Z",
     "start_time": "2024-05-13T05:15:31.808750Z"
    }
   },
   "id": "c934db330e86fef4",
   "execution_count": 3
  },
  {
   "cell_type": "code",
   "outputs": [],
   "source": [
    "# create nodes\n",
    "# esg_nodes = get_nodes(esg_docs, nodes_path, is_markdown=True,\n",
    "#                                         num_workers=6)\n",
    "# \n",
    "with open(Path.joinpath(nodes_path), \"rb\") as f:\n",
    "    esg_nodes = pickle.load(f)"
   ],
   "metadata": {
    "collapsed": false,
    "ExecuteTime": {
     "end_time": "2024-05-13T05:15:46.000742Z",
     "start_time": "2024-05-13T05:15:45.986695Z"
    }
   },
   "id": "b5787edeb807c301",
   "execution_count": 4
  },
  {
   "cell_type": "code",
   "outputs": [
    {
     "name": "stdout",
     "output_type": "stream",
     "text": [
      "loading index 10K_esg\n"
     ]
    }
   ],
   "source": [
    "# Create index\n",
    "esg_index = get_index(str(chroma_path), \"10K_esg\", esg_nodes)"
   ],
   "metadata": {
    "collapsed": false,
    "ExecuteTime": {
     "end_time": "2024-05-13T05:15:50.745315Z",
     "start_time": "2024-05-13T05:15:48.305607Z"
    }
   },
   "id": "1d9a3f9036bc3e60",
   "execution_count": 5
  },
  {
   "cell_type": "code",
   "outputs": [],
   "source": [
    "# Create query engine\n",
    "esg_query_engine = get_sentence_window_query_engine(esg_index, similarity_top_k=6,\n",
    "                                                    rerank_top_n=3)"
   ],
   "metadata": {
    "collapsed": false,
    "ExecuteTime": {
     "end_time": "2024-05-13T05:15:53.679368Z",
     "start_time": "2024-05-13T05:15:53.173260Z"
    }
   },
   "id": "d1609687ad4b5af7",
   "execution_count": 6
  },
  {
   "cell_type": "code",
   "outputs": [
    {
     "name": "stdout",
     "output_type": "stream",
     "text": [
      "Tesla's Selling, General and Administrative (SG&A) expenses as a percentage of revenue decreased from 8% in 2021 to 5% in 2022.\n"
     ]
    }
   ],
   "source": [
    "# esg_query = \"How much was Tesla's Research and Development amount and as a percentage of revenue in 2020?\"\n",
    "# esg_query = \"How much did McKinsey invested in strengthening risk management since 2018?\"\n",
    "# esg_query = \"How much was Tesla's Selling, General, and Administrative expense in 2022?\"\n",
    "esg_query = \"How much was Tesla's Selling General and Administrative expense in 2022 as a percentage of revenue?\"\n",
    "# esg_query = \"How much did Tesla's Selling, General, and Administrative changed from 2022 vs 2021 in dollar amount? \"\n",
    "response = esg_query_engine.query(esg_query)\n",
    "print(response)\n"
   ],
   "metadata": {
    "collapsed": false,
    "ExecuteTime": {
     "end_time": "2024-05-13T05:16:51.881878Z",
     "start_time": "2024-05-13T05:16:50.676645Z"
    }
   },
   "id": "6fbe2a453180e74a",
   "execution_count": 8
  },
  {
   "cell_type": "code",
   "outputs": [],
   "source": [
    "df = load_data_to_sql_db(str(sales_data_path), str(sqlitepath), \"Sales\")\n",
    "conn = sqlite3.connect(str(sqlitepath))\n",
    "engine = create_engine(\"sqlite:///\" + str(sqlitepath))\n",
    "sales_sql_query_engine = text_to_query_engine([\"Sales\"], engine)"
   ],
   "metadata": {
    "collapsed": false,
    "ExecuteTime": {
     "end_time": "2024-05-13T05:17:10.643228Z",
     "start_time": "2024-05-13T05:17:10.357939Z"
    }
   },
   "id": "e9c8308f522a046",
   "execution_count": 9
  },
  {
   "cell_type": "code",
   "outputs": [
    {
     "name": "stdout",
     "output_type": "stream",
     "text": [
      "Based on the SQL query provided, the segment that sold the most is the \"Consumer\" segment, with a total sales of 1,161,401.34.\n",
      "\n",
      "The SQL query first groups the sales data by the \"Segment\" column, calculates the total sales for each segment using the SUM(Sales) function, orders the results by the total sales in descending order, and then takes the first (LIMIT 1) result, which represents the segment with the highest total sales.\n",
      "\n",
      "Therefore, the response to the given query \"Which Segment sold the most?\" would be:\n",
      "\n",
      "\"The Consumer segment sold the most, with a total sales of 1,161,401.34.\"\n"
     ]
    }
   ],
   "source": [
    "# sales_query =\"What is the total sales in Los Angeles\"\n",
    "sales_query =\"Which Segment sold the most?\" \n",
    "response = sales_sql_query_engine.query(sales_query)\n",
    "print(response)"
   ],
   "metadata": {
    "collapsed": false,
    "ExecuteTime": {
     "end_time": "2024-05-13T05:17:14.605841Z",
     "start_time": "2024-05-13T05:17:12.031937Z"
    }
   },
   "id": "85e37a79e5da05f",
   "execution_count": 10
  },
  {
   "cell_type": "code",
   "outputs": [
    {
     "data": {
      "text/plain": "{'6fe76441-0fb2-42cf-8d91-7c1a7ce6be4f': {},\n 'sql_query': 'SELECT Segment, SUM(Sales) AS total_sales\\nFROM Sales\\nGROUP BY Segment\\nORDER BY total_sales DESC\\nLIMIT 1;',\n 'result': [('Consumer', 1161401.3449999888)],\n 'col_keys': ['Segment', 'total_sales']}"
     },
     "execution_count": 10,
     "metadata": {},
     "output_type": "execute_result"
    }
   ],
   "source": [
    "response.metadata"
   ],
   "metadata": {
    "collapsed": false,
    "ExecuteTime": {
     "end_time": "2024-04-06T20:07:57.280610Z",
     "start_time": "2024-04-06T20:07:57.276001Z"
    }
   },
   "id": "286440b1abde5456",
   "execution_count": 10
  },
  {
   "cell_type": "code",
   "outputs": [],
   "source": [
    "from llama_index.core.agent import FunctionCallingAgentWorker, AgentRunner\n",
    "from llama_index.llms.anthropic import Anthropic\n",
    "from llama_index.llms.openai import OpenAI\n",
    "from llama_index.core.selectors import LLMSingleSelector, PydanticSingleSelector\n",
    "from llama_index.core.query_engine import RouterQueryEngine, SubQuestionQueryEngine\n",
    "from llama_index.core.tools import QueryEngineTool, ToolMetadata\n",
    "# model_name = \"claude-3-haiku-20240307\"\n",
    "llm = Anthropic(model=\"claude-3-opus-20240229\")\n",
    "# llm = OpenAI(temperature=0.1, model= \"gpt-3.5-turbo\")\n",
    "esg_tool = QueryEngineTool(\n",
    "    query_engine=esg_query_engine,\n",
    "    metadata=ToolMetadata(\n",
    "        name = \"Tesla10K_Esg_Report_Query_Engine\",\n",
    "         description= \"Tool to query McKinsey and Deloitte annual sustainability report. And Teslas 2022 10K financial statement\"))\n",
    "sql_tool = QueryEngineTool(\n",
    "    query_engine=sales_sql_query_engine,\n",
    "    metadata=ToolMetadata(\n",
    "        name =\"SQl engine to query the sqlite sales database\",\n",
    "        description=\"Useful for translating a natural language query into a SQL query over\"\n",
    "        \" a table containing: product information\"))\n",
    "query_engine_tools=[\n",
    "        esg_tool,\n",
    "        sql_tool]\n",
    "\n",
    "## ROUTER\n",
    "# query_engine = RouterQueryEngine(\n",
    "#     selector=PydanticSingleSelector.from_defaults(llm=llm),\n",
    "#     query_engine_tools=query_engine_tools,\n",
    "# )\n",
    "\n",
    "## SUB QUERY\n",
    "sq_engine = SubQuestionQueryEngine.from_defaults(\n",
    "    query_engine_tools=query_engine_tools)\n",
    "\n",
    "## ANTHROPIC AGENT\n",
    "# agent_worker = FunctionCallingAgentWorker.from_tools(\n",
    "#     query_engine_tools, llm=llm, verbose=True\n",
    "# )\n",
    "# agent = AgentRunner(agent_worker)"
   ],
   "metadata": {
    "collapsed": false,
    "ExecuteTime": {
     "end_time": "2024-05-13T05:19:54.295474Z",
     "start_time": "2024-05-13T05:19:54.279474Z"
    }
   },
   "id": "89a2653c79cf3a46",
   "execution_count": 17
  },
  {
   "cell_type": "code",
   "outputs": [
    {
     "name": "stdout",
     "output_type": "stream",
     "text": [
      "Generated 3 sub questions.\n",
      "\u001B[1;3;38;2;237;90;200m[SQl engine to query the sqlite sales database] Q: What are the different product segments in the sales database?\n",
      "\u001B[0m\u001B[1;3;38;2;90;149;237m[SQl engine to query the sqlite sales database] Q: What is the total sales volume for each product segment?\n",
      "\u001B[0m\u001B[1;3;38;2;11;159;203m[SQl engine to query the sqlite sales database] Q: Which product segment had the highest total sales volume?\n",
      "\u001B[0m\u001B[1;3;38;2;237;90;200m[SQl engine to query the sqlite sales database] A: Based on the SQL query and its response, the different product segments in the sales database are:\n",
      "\n",
      "1. Consumer\n",
      "2. Corporate\n",
      "3. Home Office\n",
      "\n",
      "The SQL query selects the distinct values of the \"Segment\" column from the \"Sales\" table, which returns the three unique product segments listed above.\n",
      "\u001B[0m\u001B[1;3;38;2;11;159;203m[SQl engine to query the sqlite sales database] A: Based on the SQL query provided, the product segment that had the highest total sales volume is the \"Consumer\" segment. The query groups the sales data by the \"Segment\" column, calculates the sum of the \"Sales\" column for each segment, orders the results by the total sales in descending order, and returns the first (and only) row, which shows that the \"Consumer\" segment had the highest total sales of 1,161,401.34.\n",
      "\u001B[0m\u001B[1;3;38;2;90;149;237m[SQl engine to query the sqlite sales database] A: Based on the SQL query and its response, the total sales volume for each product segment is as follows:\n",
      "\n",
      "1. Consumer segment: 1,161,401.34\n",
      "2. Corporate segment: 706,146.37\n",
      "3. Home Office segment: 429,653.15\n",
      "\n",
      "The query groups the sales data by product segment and calculates the total sales for each segment using the SUM() function. The results are then ordered in descending order by the total sales.\n",
      "\n",
      "The response provides the total sales volume for each product segment, with the Consumer segment having the highest total sales, followed by the Corporate and Home Office segments.\n",
      "\u001B[0mThe product segment that sold the most based on the information provided in the context is the \"Consumer\" segment. The SQL query and its response show that the \"Consumer\" segment had the highest total sales volume of 1,161,401.34, which is higher than the total sales for the \"Corporate\" and \"Home Office\" segments.\n"
     ]
    }
   ],
   "source": [
    "# sales_query =\"What is the total sales in Los Angeles\"\n",
    "sales_query =\"Which product Segment sold the most using the sales database?\"\n",
    "# sales_query =\"How much did Tesla's Selling, General, and Administrative changed from 2022 vs 2021 in dollar amount? \"\n",
    "response = sq_engine.query(sales_query)\n",
    "print(response)"
   ],
   "metadata": {
    "collapsed": false,
    "ExecuteTime": {
     "end_time": "2024-05-13T05:20:38.361830Z",
     "start_time": "2024-05-13T05:20:32.827395Z"
    }
   },
   "id": "692ef121b1338fd0",
   "execution_count": 18
  },
  {
   "cell_type": "code",
   "outputs": [
    {
     "name": "stdout",
     "output_type": "stream",
     "text": [
      "Generated 3 sub questions.\n",
      "\u001B[1;3;38;2;237;90;200m[Tesla10K_Esg_Report_Query_Engine] Q: What are Deloitte's sustainability goals as reported in their annual sustainability report?\n",
      "\u001B[0m\u001B[1;3;38;2;90;149;237m[Tesla10K_Esg_Report_Query_Engine] Q: What are McKinsey's sustainability goals as reported in their annual sustainability report?\n",
      "\u001B[0m\u001B[1;3;38;2;11;159;203m[Tesla10K_Esg_Report_Query_Engine] Q: How do Deloitte's and McKinsey's sustainability goals compare?\n",
      "\u001B[0m\u001B[1;3;38;2;90;149;237m[Tesla10K_Esg_Report_Query_Engine] A: Based on the information provided in the context, McKinsey's key sustainability goals as reported in their annual sustainability report are:\n",
      "\n",
      "1. Environmental Sustainability: Become the largest private sector catalyst for decarbonization.\n",
      "\n",
      "2. Social Inclusive Growth: Build inclusive economies, institutions, and workforces that reflect their communities.\n",
      "\n",
      "3. Governance Responsible Practices: Lead with integrity and set the standard for accountability and compliance in their profession.\n",
      "\n",
      "The report states that McKinsey's commitment to accelerating sustainable and inclusive growth informs and guides their overall Environmental, Social, and Governance (ESG) agenda. Their aspiration is to accelerate sustainable and inclusive growth that can be measured in the societies in which they operate.\n",
      "\u001B[0m\u001B[1;3;38;2;11;159;203m[Tesla10K_Esg_Report_Query_Engine] A: Based on the information provided, Deloitte and McKinsey appear to have similar sustainability goals and approaches:\n",
      "\n",
      "Both firms are focused on accelerating sustainable and inclusive growth, and have set ambitious sustainability targets:\n",
      "\n",
      "- Deloitte has validated 1.5°C-aligned, science-based greenhouse gas (GHG) reduction goals for 2030, and has made progress in reducing its Scope 1 and 2 emissions by 79% compared to the base year.\n",
      "- McKinsey aims to reach net zero by 2030 and has engaged over 3,500 colleagues on 1,600+ sustainability-related client engagements in 2022.\n",
      "\n",
      "Both firms are also investing heavily in sustainability capabilities and services. Deloitte has invested $1 billion over 5 years, while McKinsey's sustainability consulting represents over $1 billion per year for the next 3 years.\n",
      "\n",
      "Additionally, both firms are actively engaging with stakeholders, including policymakers, to advocate for policies supporting the net-zero transition.\n",
      "\n",
      "Overall, the context suggests that Deloitte and McKinsey have aligned their sustainability strategies and are making significant investments and progress towards their environmental, social, and governance (ESG) goals.\n",
      "\u001B[0m\u001B[1;3;38;2;237;90;200m[Tesla10K_Esg_Report_Query_Engine] A: Based on the information provided in the sustainability report, Deloitte has set the following key sustainability goals and commitments:\n",
      "\n",
      "1. Environmental Goals:\n",
      "   - Reduce Scope 1 and 2 greenhouse gas (GHG) emissions by 79% in FY2023 compared to the base year, in line with 1.5°C-aligned, science-based targets.\n",
      "   - Transition 39% of their fleet to electric vehicles (EVs) in FY2023, up from 24% in FY2022.\n",
      "   - Aim to have 67% of their suppliers set science-based targets by 2025 to reduce emissions in the value chain.\n",
      "\n",
      "2. Social Goals:\n",
      "   - Invest more than US$3 billion over the next 10 years in societal impact initiatives, such as education, skills development, climate action, humanitarian responses, and local community needs.\n",
      "   - Impact 100 million people through education and skills development by 2030 as part of their WorldClass ambition.\n",
      "   - Advance health equity through initiatives like the Deloitte Health Equity Institutes and the Zero Health Gaps Pledge.\n",
      "\n",
      "3. Governance Goals:\n",
      "   - Implement a voluntary internal carbon price to secure a consistent level of investment in carbon pricing and expand investment in beyond value chain mitigation measures.\n",
      "   - Gradually increase the minimum carbon price to align with leading benchmarks and cover additional sources of emissions.\n",
      "\n",
      "The report also highlights Deloitte's progress in areas such as renewable electricity procurement, carbon credits and pricing, and their commitment to integrating climate-related considerations into financial statement audits.\n",
      "\u001B[0mBased on the information provided, Deloitte and McKinsey appear to have similar sustainability goals and approaches:\n",
      "\n",
      "Both firms are focused on accelerating sustainable and inclusive growth, and have set ambitious sustainability targets:\n",
      "\n",
      "- Deloitte has validated 1.5°C-aligned, science-based greenhouse gas (GHG) reduction goals for 2030, and has made progress in reducing its Scope 1 and 2 emissions by 79% compared to the base year. \n",
      "- McKinsey aims to reach net zero by 2030 and has engaged over 3,500 colleagues on 1,600+ sustainability-related client engagements in 2022.\n",
      "\n",
      "Both firms are also investing heavily in sustainability capabilities and services. Deloitte has invested $1 billion over 5 years, while McKinsey's sustainability consulting represents over $1 billion per year for the next 3 years.\n",
      "\n",
      "Additionally, both firms are actively engaging with stakeholders, including policymakers, to advocate for policies supporting the net-zero transition.\n",
      "\n",
      "Overall, the information suggests that Deloitte and McKinsey have aligned their sustainability strategies and are making significant investments and progress towards their environmental, social, and governance (ESG) goals.\n"
     ]
    }
   ],
   "source": [
    "# esg_query = \"How is McKinsey responding to the war in Ukraine in its sustainability effort?\"\n",
    "esg_query =\"Compare Deloitte's sustainbaility goals with that of McKinsey\" \n",
    "# esg_query = \"How much was Tesla's Selling, General, and Administrative expense in 2022?\"\n",
    "# esg_query = \"How much did Tesla's Selling, General, and Administrative changed from 2022 vs 2021 in dollar amount? \"\n",
    "# esg_query = \"How much was Tesla's Selling General and Administrative expense in 2022 as a percentage of revenue?\"\n",
    "response = sq_engine.query(esg_query)\n",
    "print(response)"
   ],
   "metadata": {
    "collapsed": false,
    "ExecuteTime": {
     "end_time": "2024-05-13T05:24:15.450797Z",
     "start_time": "2024-05-13T05:24:08.039571Z"
    }
   },
   "id": "ffb2fc23ce6f5ef7",
   "execution_count": 22
  },
  {
   "cell_type": "code",
   "outputs": [],
   "source": [],
   "metadata": {
    "collapsed": false
   },
   "id": "9611d380a96be885"
  }
 ],
 "metadata": {
  "kernelspec": {
   "display_name": "Python 3",
   "language": "python",
   "name": "python3"
  },
  "language_info": {
   "codemirror_mode": {
    "name": "ipython",
    "version": 2
   },
   "file_extension": ".py",
   "mimetype": "text/x-python",
   "name": "python",
   "nbconvert_exporter": "python",
   "pygments_lexer": "ipython2",
   "version": "2.7.6"
  }
 },
 "nbformat": 4,
 "nbformat_minor": 5
}
