{
 "cells": [
  {
   "cell_type": "code",
   "execution_count": 1,
   "metadata": {},
   "outputs": [],
   "source": [
    "import base64\n",
    "import os\n",
    "from byaldi import RAGMultiModalModel\n",
    "from claudette import *\n",
    "from pathlib import Path\n",
    "from dotenv import load_dotenv\n",
    "load_dotenv()\n",
    "import os"
   ]
  },
  {
   "cell_type": "code",
   "execution_count": null,
   "metadata": {},
   "outputs": [],
   "source": [
    "# os.environ[\"HF_TOKEN\"] = os.getenv(\"HUGGINFACE\")\n",
    "# os.environ[\"ANTHROPIC_API_KEY\"] = os.getenv(\"ANTHROPIC\")"
   ]
  },
  {
   "cell_type": "code",
   "execution_count": 1,
   "metadata": {},
   "outputs": [
    {
     "name": "stdout",
     "output_type": "stream",
     "text": [
      "--2024-09-08 08:35:50--  https://ir.tesla.com/_flysystem/s3/sec/000162828024002390/tsla-20231231-gen.pdf\n",
      "Resolving ir.tesla.com (ir.tesla.com)... 2600:1404:a00:59b::700, 2600:1404:a00:592::700, 184.87.160.55\n",
      "Connecting to ir.tesla.com (ir.tesla.com)|2600:1404:a00:59b::700|:443... connected.\n",
      "HTTP request sent, awaiting response... 200 OK\n",
      "Length: unspecified [application/pdf]\n",
      "Saving to: ‘tesla10k.pdf’\n",
      "\n",
      "tesla10k.pdf            [ <=>                ] 961.50K  --.-KB/s    in 0.1s    \n",
      "\n",
      "2024-09-08 08:35:51 (8.41 MB/s) - ‘tesla10k.pdf’ saved [984581]\n",
      "\n"
     ]
    }
   ],
   "source": [
    "!wget -O tesla10k.pdf https://ir.tesla.com/_flysystem/s3/sec/000162828024002390/tsla-20231231-gen.pdf"
   ]
  },
  {
   "cell_type": "code",
   "execution_count": 2,
   "metadata": {},
   "outputs": [
    {
     "name": "stdout",
     "output_type": "stream",
     "text": [
      "Verbosity is set to 1 (active). Pass verbose=0 to make quieter.\n"
     ]
    },
    {
     "name": "stderr",
     "output_type": "stream",
     "text": [
      "/Users/hamidadesokan/Dropbox/2_Skill_Development/DLML/genai_applications/RAG/.venv/lib/python3.12/site-packages/transformers/models/paligemma/configuration_paligemma.py:137: FutureWarning: The `vocab_size` attribute is deprecated and will be removed in v4.44, Please use `text_config.vocab_size` instead.\n",
      "  warnings.warn(\n",
      "`config.hidden_act` is ignored, you should use `config.hidden_activation` instead.\n",
      "Gemma's activation function will be set to `gelu_pytorch_tanh`. Please, use\n",
      "`config.hidden_activation` if you want to override this behaviour.\n",
      "See https://github.com/huggingface/transformers/pull/29402 for more details.\n"
     ]
    },
    {
     "data": {
      "application/vnd.jupyter.widget-view+json": {
       "model_id": "56bbf25864fd4601b5101b667917da65",
       "version_major": 2,
       "version_minor": 0
      },
      "text/plain": [
       "Loading checkpoint shards:   0%|          | 0/2 [00:00<?, ?it/s]"
      ]
     },
     "metadata": {},
     "output_type": "display_data"
    },
    {
     "name": "stdout",
     "output_type": "stream",
     "text": [
      "Added page 1 of document 0 to index.\n",
      "Added page 2 of document 0 to index.\n",
      "Added page 3 of document 0 to index.\n",
      "Added page 4 of document 0 to index.\n",
      "Added page 5 of document 0 to index.\n",
      "Added page 6 of document 0 to index.\n",
      "Added page 7 of document 0 to index.\n",
      "Added page 8 of document 0 to index.\n",
      "Added page 9 of document 0 to index.\n",
      "Added page 10 of document 0 to index.\n",
      "Added page 11 of document 0 to index.\n",
      "Added page 12 of document 0 to index.\n",
      "Added page 13 of document 0 to index.\n",
      "Added page 14 of document 0 to index.\n",
      "Added page 15 of document 0 to index.\n",
      "Added page 16 of document 0 to index.\n",
      "Added page 17 of document 0 to index.\n",
      "Added page 18 of document 0 to index.\n",
      "Added page 19 of document 0 to index.\n",
      "Added page 20 of document 0 to index.\n",
      "Added page 21 of document 0 to index.\n",
      "Added page 22 of document 0 to index.\n",
      "Added page 23 of document 0 to index.\n",
      "Added page 24 of document 0 to index.\n",
      "Added page 25 of document 0 to index.\n",
      "Added page 26 of document 0 to index.\n",
      "Added page 27 of document 0 to index.\n",
      "Added page 28 of document 0 to index.\n",
      "Added page 29 of document 0 to index.\n",
      "Added page 30 of document 0 to index.\n",
      "Added page 31 of document 0 to index.\n",
      "Added page 32 of document 0 to index.\n",
      "Added page 33 of document 0 to index.\n",
      "Added page 34 of document 0 to index.\n",
      "Added page 35 of document 0 to index.\n",
      "Added page 36 of document 0 to index.\n",
      "Added page 37 of document 0 to index.\n",
      "Added page 38 of document 0 to index.\n",
      "Added page 39 of document 0 to index.\n",
      "Added page 40 of document 0 to index.\n",
      "Added page 41 of document 0 to index.\n",
      "Added page 42 of document 0 to index.\n",
      "Added page 43 of document 0 to index.\n",
      "Added page 44 of document 0 to index.\n",
      "Added page 45 of document 0 to index.\n",
      "Added page 46 of document 0 to index.\n",
      "Added page 47 of document 0 to index.\n",
      "Added page 48 of document 0 to index.\n",
      "Added page 49 of document 0 to index.\n",
      "Added page 50 of document 0 to index.\n",
      "Added page 51 of document 0 to index.\n",
      "Added page 52 of document 0 to index.\n",
      "Added page 53 of document 0 to index.\n",
      "Added page 54 of document 0 to index.\n",
      "Added page 55 of document 0 to index.\n",
      "Added page 56 of document 0 to index.\n",
      "Added page 57 of document 0 to index.\n",
      "Added page 58 of document 0 to index.\n",
      "Added page 59 of document 0 to index.\n",
      "Added page 60 of document 0 to index.\n",
      "Added page 61 of document 0 to index.\n",
      "Added page 62 of document 0 to index.\n",
      "Added page 63 of document 0 to index.\n",
      "Added page 64 of document 0 to index.\n",
      "Added page 65 of document 0 to index.\n",
      "Added page 66 of document 0 to index.\n",
      "Added page 67 of document 0 to index.\n",
      "Added page 68 of document 0 to index.\n",
      "Added page 69 of document 0 to index.\n",
      "Added page 70 of document 0 to index.\n",
      "Added page 71 of document 0 to index.\n",
      "Added page 72 of document 0 to index.\n",
      "Added page 73 of document 0 to index.\n",
      "Added page 74 of document 0 to index.\n",
      "Added page 75 of document 0 to index.\n",
      "Added page 76 of document 0 to index.\n",
      "Added page 77 of document 0 to index.\n",
      "Added page 78 of document 0 to index.\n",
      "Added page 79 of document 0 to index.\n",
      "Added page 80 of document 0 to index.\n",
      "Added page 81 of document 0 to index.\n",
      "Added page 82 of document 0 to index.\n",
      "Added page 83 of document 0 to index.\n",
      "Added page 84 of document 0 to index.\n",
      "Added page 85 of document 0 to index.\n",
      "Added page 86 of document 0 to index.\n",
      "Added page 87 of document 0 to index.\n",
      "Added page 88 of document 0 to index.\n",
      "Added page 89 of document 0 to index.\n",
      "Added page 90 of document 0 to index.\n",
      "Added page 91 of document 0 to index.\n",
      "Added page 92 of document 0 to index.\n",
      "Added page 93 of document 0 to index.\n",
      "Added page 94 of document 0 to index.\n",
      "Added page 95 of document 0 to index.\n",
      "Added page 96 of document 0 to index.\n",
      "Added page 97 of document 0 to index.\n",
      "Added page 98 of document 0 to index.\n",
      "Added page 99 of document 0 to index.\n",
      "Added page 100 of document 0 to index.\n",
      "Added page 101 of document 0 to index.\n",
      "Added page 102 of document 0 to index.\n",
      "Added page 103 of document 0 to index.\n",
      "Added page 104 of document 0 to index.\n",
      "Added page 105 of document 0 to index.\n",
      "Added page 106 of document 0 to index.\n",
      "Added page 107 of document 0 to index.\n",
      "Added page 108 of document 0 to index.\n",
      "Added page 109 of document 0 to index.\n",
      "Added page 110 of document 0 to index.\n",
      "Added page 111 of document 0 to index.\n",
      "Added page 112 of document 0 to index.\n",
      "Added page 113 of document 0 to index.\n",
      "Added page 114 of document 0 to index.\n",
      "Added page 115 of document 0 to index.\n",
      "Added page 116 of document 0 to index.\n",
      "Added page 117 of document 0 to index.\n",
      "Added page 118 of document 0 to index.\n",
      "Added page 119 of document 0 to index.\n",
      "Added page 120 of document 0 to index.\n",
      "Added page 121 of document 0 to index.\n",
      "Added page 122 of document 0 to index.\n",
      "Added page 123 of document 0 to index.\n",
      "Added page 124 of document 0 to index.\n",
      "Added page 125 of document 0 to index.\n",
      "Added page 126 of document 0 to index.\n",
      "Added page 127 of document 0 to index.\n",
      "Added page 128 of document 0 to index.\n",
      "Added page 129 of document 0 to index.\n",
      "Added page 130 of document 0 to index.\n",
      "Index exported to .byaldi/tesla10k\n",
      "Index exported to .byaldi/tesla10k\n"
     ]
    },
    {
     "data": {
      "text/plain": [
       "{0: '/Users/hamidadesokan/Dropbox/2_Skill_Development/DLML/genai_applications/RAG/data/pdfs/tesla10k.pdf'}"
      ]
     },
     "execution_count": 2,
     "metadata": {},
     "output_type": "execute_result"
    }
   ],
   "source": [
    "pdfs = Path.cwd().parent / \"data\" / \"pdfs\"\n",
    "RAG = RAGMultiModalModel.from_pretrained(\"vidore/colpali-v1.2\", verbose=1)\n",
    "RAG.index(\n",
    "    input_path=pdfs / \"tesla10k.pdf\",\n",
    "    index_name=\"tesla10k\",\n",
    "    store_collection_with_index=True,\n",
    "    overwrite=True,\n",
    ")"
   ]
  },
  {
   "cell_type": "code",
   "execution_count": 3,
   "metadata": {},
   "outputs": [
    {
     "name": "stdout",
     "output_type": "stream",
     "text": [
      "{'model_name': 'vidore/colpali-v1.2', 'full_document_collection': True, 'highest_doc_id': 0, 'library_version': '0.0.2.post2'}\n",
      "Verbosity is set to 1 (active). Pass verbose=0 to make quieter.\n"
     ]
    },
    {
     "name": "stderr",
     "output_type": "stream",
     "text": [
      "/Users/hamidadesokan/Dropbox/2_Skill_Development/DLML/genai_applications/RAG/.venv/lib/python3.12/site-packages/transformers/models/paligemma/configuration_paligemma.py:137: FutureWarning: The `vocab_size` attribute is deprecated and will be removed in v4.44, Please use `text_config.vocab_size` instead.\n",
      "  warnings.warn(\n"
     ]
    },
    {
     "data": {
      "application/vnd.jupyter.widget-view+json": {
       "model_id": "f5f255ee9d7b4fb2abbdfeff13cd298d",
       "version_major": 2,
       "version_minor": 0
      },
      "text/plain": [
       "Loading checkpoint shards:   0%|          | 0/2 [00:00<?, ?it/s]"
      ]
     },
     "metadata": {},
     "output_type": "display_data"
    },
    {
     "name": "stdout",
     "output_type": "stream",
     "text": [
      "You are using in-memory collection. This means every image is stored in memory.\n",
      "You might want to rethink this if you have a large collection!\n",
      "Loaded 89 images from 1 JSON files.\n"
     ]
    },
    {
     "name": "stderr",
     "output_type": "stream",
     "text": [
      "/Users/hamidadesokan/Dropbox/2_Skill_Development/DLML/genai_applications/RAG/.venv/lib/python3.12/site-packages/byaldi/colpali.py:135: FutureWarning: You are using `torch.load` with `weights_only=False` (the current default value), which uses the default pickle module implicitly. It is possible to construct malicious pickle data which will execute arbitrary code during unpickling (See https://github.com/pytorch/pytorch/blob/main/SECURITY.md#untrusted-models for more details). In a future release, the default value for `weights_only` will be flipped to `True`. This limits the functions that could be executed during unpickling. Arbitrary objects will no longer be allowed to be loaded via this mode unless they are explicitly allowlisted by the user via `torch.serialization.add_safe_globals`. We recommend you start setting `weights_only=True` for any use case where you don't have full control of the loaded file. Please open an issue on GitHub for any issues related to this experimental feature.\n",
      "  self.indexed_embeddings.extend(torch.load(file))\n"
     ]
    }
   ],
   "source": [
    "RAG = RAGMultiModalModel.from_index(\"tesla10k\")"
   ]
  },
  {
   "cell_type": "code",
   "execution_count": 25,
   "metadata": {},
   "outputs": [],
   "source": [
    "# query = \"What's the BLEU score for the transformer base model?\"\n",
    "query = \"What was the reason provided for the chnages in Automotive & Services and Other Segment in 2023 compared to 2022\"\n",
    "# query = \"What is the title of ColPali paper?\""
   ]
  },
  {
   "cell_type": "code",
   "execution_count": null,
   "metadata": {},
   "outputs": [],
   "source": [
    "# !wget https://arxiv.org/pdf/2407.01449\n",
    "# !mv 2407.01449 pdfs/attention.pdf"
   ]
  },
  {
   "cell_type": "code",
   "execution_count": 27,
   "metadata": {},
   "outputs": [
    {
     "data": {
      "text/markdown": [
       "According to the image, there were several changes in the Automotive & Services and Other Segment in 2023 compared to 2022:\n",
       "\n",
       "1. Cost of automotive sales revenue increased by $15.52 billion or 31%. This was primarily due to higher deliveries year over year, partially offset by a decrease in the average combined cost per unit of vehicles due to sales mix, lower inbound freight, a decrease in material costs, and lower manufacturing costs from better fixed cost absorption.\n",
       "\n",
       "2. Cost of automotive leasing revenue decreased by $241 million or 16%, primarily due to a decrease in direct sales-type leasing cost of revenue driven by lower deliveries year over year.\n",
       "\n",
       "3. Cost of services and other revenue increased by $1.95 billion or 33%, generally in line with the changes in services and other revenue as discussed in the text.\n",
       "\n",
       "4. Gross margin for total automotive decreased from 28.5% to 19.4%, primarily due to a lower average selling price on vehicles, partially offset by the favorable change in average combined cost per unit of vehicles and IRA manufacturing credits earned.\n",
       "\n",
       "5. Gross margin for total automotive & services and other segment decreased from 26.5% to 18.2%, primarily due to the automotive gross margin decrease discussed above.\n",
       "\n",
       "These changes were attributed to various factors including delivery volumes, pricing, cost efficiencies, and external factors like foreign currency exchange rates and manufacturing credits.\n",
       "\n",
       "<details>\n",
       "\n",
       "- id: `msg_016pYkq4wbgsepitUk4UzzCz`\n",
       "- content: `[{'text': 'According to the image, there were several changes in the Automotive & Services and Other Segment in 2023 compared to 2022:\\n\\n1. Cost of automotive sales revenue increased by $15.52 billion or 31%. This was primarily due to higher deliveries year over year, partially offset by a decrease in the average combined cost per unit of vehicles due to sales mix, lower inbound freight, a decrease in material costs, and lower manufacturing costs from better fixed cost absorption.\\n\\n2. Cost of automotive leasing revenue decreased by $241 million or 16%, primarily due to a decrease in direct sales-type leasing cost of revenue driven by lower deliveries year over year.\\n\\n3. Cost of services and other revenue increased by $1.95 billion or 33%, generally in line with the changes in services and other revenue as discussed in the text.\\n\\n4. Gross margin for total automotive decreased from 28.5% to 19.4%, primarily due to a lower average selling price on vehicles, partially offset by the favorable change in average combined cost per unit of vehicles and IRA manufacturing credits earned.\\n\\n5. Gross margin for total automotive & services and other segment decreased from 26.5% to 18.2%, primarily due to the automotive gross margin decrease discussed above.\\n\\nThese changes were attributed to various factors including delivery volumes, pricing, cost efficiencies, and external factors like foreign currency exchange rates and manufacturing credits.', 'type': 'text'}]`\n",
       "- model: `claude-3-5-sonnet-20240620`\n",
       "- role: `assistant`\n",
       "- stop_reason: `end_turn`\n",
       "- stop_sequence: `None`\n",
       "- type: `message`\n",
       "- usage: `{'input_tokens': 1536, 'output_tokens': 309, 'cache_creation_input_tokens': 0, 'cache_read_input_tokens': 0}`\n",
       "\n",
       "</details>"
      ],
      "text/plain": [
       "Message(id='msg_016pYkq4wbgsepitUk4UzzCz', content=[TextBlock(text='According to the image, there were several changes in the Automotive & Services and Other Segment in 2023 compared to 2022:\\n\\n1. Cost of automotive sales revenue increased by $15.52 billion or 31%. This was primarily due to higher deliveries year over year, partially offset by a decrease in the average combined cost per unit of vehicles due to sales mix, lower inbound freight, a decrease in material costs, and lower manufacturing costs from better fixed cost absorption.\\n\\n2. Cost of automotive leasing revenue decreased by $241 million or 16%, primarily due to a decrease in direct sales-type leasing cost of revenue driven by lower deliveries year over year.\\n\\n3. Cost of services and other revenue increased by $1.95 billion or 33%, generally in line with the changes in services and other revenue as discussed in the text.\\n\\n4. Gross margin for total automotive decreased from 28.5% to 19.4%, primarily due to a lower average selling price on vehicles, partially offset by the favorable change in average combined cost per unit of vehicles and IRA manufacturing credits earned.\\n\\n5. Gross margin for total automotive & services and other segment decreased from 26.5% to 18.2%, primarily due to the automotive gross margin decrease discussed above.\\n\\nThese changes were attributed to various factors including delivery volumes, pricing, cost efficiencies, and external factors like foreign currency exchange rates and manufacturing credits.', type='text')], model='claude-3-5-sonnet-20240620', role='assistant', stop_reason='end_turn', stop_sequence=None, type='message', usage=In: 1536; Out: 309; Total: 1845)"
      ]
     },
     "execution_count": 27,
     "metadata": {},
     "output_type": "execute_result"
    }
   ],
   "source": [
    "query = \"What was the reason provided for the chnages in Automotive & Services and Other Segment in 2023 compared to 2022\"\n",
    "results = RAG.search(query, k=1)\n",
    "image_bytes = base64.b64decode(results[0].base64)\n",
    "\n",
    "image_bytes = base64.b64decode(results[0].base64)\n",
    "chat = Chat(models[1])\n",
    "chat([image_bytes, query])"
   ]
  },
  {
   "cell_type": "code",
   "execution_count": 20,
   "metadata": {},
   "outputs": [],
   "source": [
    "# image_bytes = base64.b64decode(results[0].base64)"
   ]
  },
  {
   "cell_type": "code",
   "execution_count": 21,
   "metadata": {},
   "outputs": [
    {
     "data": {
      "text/plain": [
       "('claude-3-opus-20240229',\n",
       " 'claude-3-5-sonnet-20240620',\n",
       " 'claude-3-haiku-20240307')"
      ]
     },
     "execution_count": 21,
     "metadata": {},
     "output_type": "execute_result"
    }
   ],
   "source": [
    "# image_bytes = base64.b64decode(results[0].base64)\n",
    "# chat = Chat(models[1])\n",
    "# models is a claudette helper that contains the list of models available on your account, as of 2024-09-06, [1] is Claude Sonnet 3.5:\n",
    "# models"
   ]
  },
  {
   "cell_type": "code",
   "execution_count": 22,
   "metadata": {},
   "outputs": [
    {
     "data": {
      "text/markdown": [
       "Based on the graph, Tesla's 60-month cumulative total return appears to be at its lowest point around April 2019. The dotted line representing Tesla dips to its lowest level on the chart during the early months of 2019, with April seeming to be the lowest point before it begins to rise again.\n",
       "\n",
       "<details>\n",
       "\n",
       "- id: `msg_01D8eoqcbFDBLhuqEVHooazH`\n",
       "- content: `[{'text': \"Based on the graph, Tesla's 60-month cumulative total return appears to be at its lowest point around April 2019. The dotted line representing Tesla dips to its lowest level on the chart during the early months of 2019, with April seeming to be the lowest point before it begins to rise again.\", 'type': 'text'}]`\n",
       "- model: `claude-3-5-sonnet-20240620`\n",
       "- role: `assistant`\n",
       "- stop_reason: `end_turn`\n",
       "- stop_sequence: `None`\n",
       "- type: `message`\n",
       "- usage: `{'input_tokens': 1523, 'output_tokens': 71, 'cache_creation_input_tokens': 0, 'cache_read_input_tokens': 0}`\n",
       "\n",
       "</details>"
      ],
      "text/plain": [
       "Message(id='msg_01D8eoqcbFDBLhuqEVHooazH', content=[TextBlock(text=\"Based on the graph, Tesla's 60-month cumulative total return appears to be at its lowest point around April 2019. The dotted line representing Tesla dips to its lowest level on the chart during the early months of 2019, with April seeming to be the lowest point before it begins to rise again.\", type='text')], model='claude-3-5-sonnet-20240620', role='assistant', stop_reason='end_turn', stop_sequence=None, type='message', usage=In: 1523; Out: 71; Total: 1594)"
      ]
     },
     "execution_count": 22,
     "metadata": {},
     "output_type": "execute_result"
    }
   ],
   "source": [
    "# chat([image_bytes, query])"
   ]
  },
  {
   "cell_type": "code",
   "execution_count": null,
   "metadata": {},
   "outputs": [],
   "source": []
  }
 ],
 "metadata": {
  "kernelspec": {
   "display_name": ".venv",
   "language": "python",
   "name": "python3"
  },
  "language_info": {
   "codemirror_mode": {
    "name": "ipython",
    "version": 3
   },
   "file_extension": ".py",
   "mimetype": "text/x-python",
   "name": "python",
   "nbconvert_exporter": "python",
   "pygments_lexer": "ipython3",
   "version": "3.12.5"
  }
 },
 "nbformat": 4,
 "nbformat_minor": 2
}
